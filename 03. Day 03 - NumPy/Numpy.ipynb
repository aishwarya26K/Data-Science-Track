{
 "cells": [
  {
   "cell_type": "code",
   "execution_count": 1,
   "id": "ebe283b2",
   "metadata": {},
   "outputs": [],
   "source": [
    "import numpy as np"
   ]
  },
  {
   "cell_type": "markdown",
   "id": "7eda2369",
   "metadata": {},
   "source": [
    "# What is Numpy?"
   ]
  },
  {
   "cell_type": "markdown",
   "id": "330589fb",
   "metadata": {},
   "source": [
    "- It is a Python library that provides a multidimensional array object, various derived objects (such as masked arrays and matrices), and an assortment of routines for fast operations on arrays, including mathematical, logical, shape manipulation, sorting, selecting, I/O, discrete Fourier transforms, basic linear algebra, basic statistical operations, random simulation and much more.\n",
    "- At the core of the NumPy package, is the ndarray object. This encapsulates n-dimensional arrays of homogeneous data types, with many operations being performed in compiled code for performance.\n",
    "- There are several important differences between NumPy arrays and the standard Python sequences:\n",
    " - NumPy arrays have a fixed size at creation, unlike Python lists (which can grow dynamically). Changing the size of an ndarray will create a new array and delete the original.\n",
    " - The elements in a NumPy array are all required to be of the same data type, and thus will be the same size in memory. The exception: one can have arrays of (Python, including NumPy) objects, thereby allowing for arrays of different sized elements.\n",
    " - NumPy arrays facilitate advanced mathematical and other types of operations on large numbers of data. Typically, such operations are executed more efficiently and with less code than is possible using Python’s built-in sequences."
   ]
  },
  {
   "cell_type": "markdown",
   "id": "4b7b3bcb",
   "metadata": {},
   "source": [
    "# Why is NumPy fast?"
   ]
  },
  {
   "cell_type": "markdown",
   "id": "1e11800c",
   "metadata": {},
   "source": [
    "- NumPy is fast primarily because of the following reasons:\n",
    "\n",
    " 1. Vectorized Operations: NumPy uses vectorized operations, which means instead of looping over individual elements in a Python loop, NumPy operations work on entire arrays at once. This leverages highly optimized C and Fortran libraries for numerical computations, making operations significantly faster than native Python.\n",
    "\n",
    " 2. Efficient Memory Layout: NumPy arrays use contiguous blocks of memory with a fixed data type. This leads to better cache utilization and reduced overhead compared to Python lists, which are dynamically typed and stored as objects in memory, each with additional metadata.\n",
    "\n",
    " 3. Low-Level Implementations: Many of the core NumPy operations are written in C or Fortran, which are compiled languages and much faster than Python, an interpreted language. This allows NumPy to bypass Python’s overhead and interact directly with lower-level, faster machine code.\n",
    " 4. Broadcasting: NumPy allows broadcasting, which means it can apply operations on arrays of different shapes without explicitly reshaping or replicating data. This reduces memory usage and computation time.\n",
    " 5. Avoidance of Python Loops: In Python, looping over individual elements is relatively slow due to Python’s interpreter overhead. NumPy avoids this by implementing operations directly in optimized C code that operates on the entire array at once."
   ]
  },
  {
   "cell_type": "markdown",
   "id": "fdaa6c7d",
   "metadata": {},
   "source": [
    "# Python Lists vs Numpy Array"
   ]
  },
  {
   "cell_type": "markdown",
   "id": "1945669d",
   "metadata": {},
   "source": [
    "https://www.geeksforgeeks.org/python-lists-vs-numpy-arrays/"
   ]
  },
  {
   "cell_type": "markdown",
   "id": "2be7162c",
   "metadata": {},
   "source": [
    "# Numpy Basics"
   ]
  },
  {
   "cell_type": "markdown",
   "id": "50518ccf",
   "metadata": {},
   "source": [
    "- NumPy’s main object is the homogeneous multidimensional array. It is a table of elements (usually numbers), all of the same type, indexed by a tuple of non-negative integers.\n",
    "- In NumPy dimensions are called axes.\n",
    "- ndarray.ndim: no. of axes of the array\n",
    "- ndarray.shape: dimensions of the array i.e. (n,m) where n rows and m columns\n",
    "- ndarray.size: the total number of elements of the array. This is equal to the product of the elements of shape.\n",
    "- ndarray.dtype: an object describing the type of the elements in the array.\n",
    "- ndarray.itemsize: the size in bytes of each element of the array."
   ]
  },
  {
   "cell_type": "code",
   "execution_count": 2,
   "id": "066c30c4",
   "metadata": {},
   "outputs": [
    {
     "data": {
      "text/plain": [
       "array([[ 0,  1,  2,  3,  4],\n",
       "       [ 5,  6,  7,  8,  9],\n",
       "       [10, 11, 12, 13, 14]])"
      ]
     },
     "execution_count": 2,
     "metadata": {},
     "output_type": "execute_result"
    }
   ],
   "source": [
    "import numpy as np\n",
    "\n",
    "a = np.arange(15).reshape(3,5)\n",
    "a"
   ]
  },
  {
   "cell_type": "code",
   "execution_count": 3,
   "id": "51ad7d6b",
   "metadata": {},
   "outputs": [
    {
     "name": "stdout",
     "output_type": "stream",
     "text": [
      "2\n"
     ]
    }
   ],
   "source": [
    "print(a.ndim)"
   ]
  },
  {
   "cell_type": "code",
   "execution_count": 4,
   "id": "583db679",
   "metadata": {},
   "outputs": [
    {
     "name": "stdout",
     "output_type": "stream",
     "text": [
      "(3, 5)\n"
     ]
    }
   ],
   "source": [
    "print(a.shape)"
   ]
  },
  {
   "cell_type": "code",
   "execution_count": 5,
   "id": "e625dbc4",
   "metadata": {},
   "outputs": [
    {
     "name": "stdout",
     "output_type": "stream",
     "text": [
      "15\n"
     ]
    }
   ],
   "source": [
    "print(a.size)"
   ]
  },
  {
   "cell_type": "code",
   "execution_count": 6,
   "id": "d1b56587",
   "metadata": {},
   "outputs": [
    {
     "name": "stdout",
     "output_type": "stream",
     "text": [
      "int32\n"
     ]
    }
   ],
   "source": [
    "print(a.dtype)"
   ]
  },
  {
   "cell_type": "code",
   "execution_count": 7,
   "id": "845573c2",
   "metadata": {},
   "outputs": [
    {
     "name": "stdout",
     "output_type": "stream",
     "text": [
      "4\n"
     ]
    }
   ],
   "source": [
    "print(a.itemsize)"
   ]
  },
  {
   "cell_type": "markdown",
   "id": "174e52b2",
   "metadata": {},
   "source": [
    "# Array Upcasting"
   ]
  },
  {
   "cell_type": "markdown",
   "id": "027ff6e4",
   "metadata": {},
   "source": [
    "- When we pass heterogenous elments to an array then it converts them into same type following the upcasting method.\n",
    "- int -> float -> complex -> string -> object"
   ]
  },
  {
   "cell_type": "code",
   "execution_count": 8,
   "id": "9978e8d4",
   "metadata": {},
   "outputs": [
    {
     "data": {
      "text/plain": [
       "array(['1', '2', '3', '4', '5'], dtype='<U11')"
      ]
     },
     "execution_count": 8,
     "metadata": {},
     "output_type": "execute_result"
    }
   ],
   "source": [
    "a = np.array([1,2,3,'4',5])\n",
    "a"
   ]
  },
  {
   "cell_type": "markdown",
   "id": "14648e6c",
   "metadata": {},
   "source": [
    "<br>"
   ]
  },
  {
   "cell_type": "markdown",
   "id": "4f6e81c7",
   "metadata": {},
   "source": [
    "# Create Different Types of Arrays"
   ]
  },
  {
   "cell_type": "markdown",
   "id": "3c3972ad",
   "metadata": {},
   "source": [
    "## 1. np.arange()"
   ]
  },
  {
   "cell_type": "markdown",
   "id": "2e950c13",
   "metadata": {},
   "source": [
    "- np.arange(start,stop,step)\n",
    "- Stop value is excluded\n",
    "- Step values is 1 by default"
   ]
  },
  {
   "cell_type": "code",
   "execution_count": 9,
   "id": "b692e6eb",
   "metadata": {},
   "outputs": [
    {
     "data": {
      "text/plain": [
       "array([ 1,  2,  3,  4,  5,  6,  7,  8,  9, 10])"
      ]
     },
     "execution_count": 9,
     "metadata": {},
     "output_type": "execute_result"
    }
   ],
   "source": [
    "l = np.arange(1,11)\n",
    "l"
   ]
  },
  {
   "cell_type": "code",
   "execution_count": 10,
   "id": "cb0e8d6d",
   "metadata": {},
   "outputs": [
    {
     "data": {
      "text/plain": [
       "array([1, 3, 5, 7, 9])"
      ]
     },
     "execution_count": 10,
     "metadata": {},
     "output_type": "execute_result"
    }
   ],
   "source": [
    "l = np.arange(1,11,2)\n",
    "l"
   ]
  },
  {
   "cell_type": "markdown",
   "id": "7c10e5bd",
   "metadata": {},
   "source": [
    "## 2. np.linspace()"
   ]
  },
  {
   "cell_type": "markdown",
   "id": "a53339ea",
   "metadata": {},
   "source": [
    "- It is used to generate n number of values between two numbers.\n",
    "- The values we get are at equal interval.\n",
    "- It means betwen two consecutive numbers we get equal difference.\n",
    "- np.linspace(start,stop,number of values)\n",
    "- Stop value is included"
   ]
  },
  {
   "cell_type": "code",
   "execution_count": 11,
   "id": "fe56b9f3",
   "metadata": {},
   "outputs": [
    {
     "data": {
      "text/plain": [
       "array([ 1.  ,  3.25,  5.5 ,  7.75, 10.  ])"
      ]
     },
     "execution_count": 11,
     "metadata": {},
     "output_type": "execute_result"
    }
   ],
   "source": [
    "# Create an array of 5 nummbers that are at equal interval between 1 and 10\n",
    "\n",
    "arr=np.linspace(1,10,5)\n",
    "arr"
   ]
  },
  {
   "cell_type": "markdown",
   "id": "bebd5c22",
   "metadata": {},
   "source": [
    "## 3. np.ones()"
   ]
  },
  {
   "cell_type": "markdown",
   "id": "524be49b",
   "metadata": {},
   "source": [
    "- It generates an array of the given shape where all the elments are 1's"
   ]
  },
  {
   "cell_type": "code",
   "execution_count": 12,
   "id": "2e866560",
   "metadata": {},
   "outputs": [
    {
     "data": {
      "text/plain": [
       "array([[1, 1, 1],\n",
       "       [1, 1, 1],\n",
       "       [1, 1, 1]])"
      ]
     },
     "execution_count": 12,
     "metadata": {},
     "output_type": "execute_result"
    }
   ],
   "source": [
    "arr=np.ones((3,3),dtype=int)\n",
    "arr"
   ]
  },
  {
   "cell_type": "markdown",
   "id": "20df43ea",
   "metadata": {},
   "source": [
    "## 4. np.zeros()"
   ]
  },
  {
   "cell_type": "markdown",
   "id": "9748eda9",
   "metadata": {},
   "source": [
    "- It creates an array of the given shape where all the elements are 0's"
   ]
  },
  {
   "cell_type": "code",
   "execution_count": 13,
   "id": "a047d4b4",
   "metadata": {},
   "outputs": [
    {
     "data": {
      "text/plain": [
       "array([[0., 0., 0., 0.],\n",
       "       [0., 0., 0., 0.],\n",
       "       [0., 0., 0., 0.],\n",
       "       [0., 0., 0., 0.]])"
      ]
     },
     "execution_count": 13,
     "metadata": {},
     "output_type": "execute_result"
    }
   ],
   "source": [
    "arr=np.zeros((4,4))\n",
    "arr"
   ]
  },
  {
   "cell_type": "code",
   "execution_count": 14,
   "id": "b91c8eee",
   "metadata": {},
   "outputs": [
    {
     "data": {
      "text/plain": [
       "array([[0, 0, 0, 0],\n",
       "       [0, 0, 0, 0],\n",
       "       [0, 0, 0, 0],\n",
       "       [0, 0, 0, 0]])"
      ]
     },
     "execution_count": 14,
     "metadata": {},
     "output_type": "execute_result"
    }
   ],
   "source": [
    "arr=np.zeros((4,4),dtype=int)\n",
    "arr"
   ]
  },
  {
   "cell_type": "markdown",
   "id": "3be95398",
   "metadata": {},
   "source": [
    "## 5. np.full()"
   ]
  },
  {
   "cell_type": "markdown",
   "id": "b5c8137a",
   "metadata": {},
   "source": [
    "- It creates an array of the given shape where all the elements are the value given.\n",
    "- np.full((row,cols),value)"
   ]
  },
  {
   "cell_type": "code",
   "execution_count": 16,
   "id": "1ce5763e",
   "metadata": {},
   "outputs": [
    {
     "data": {
      "text/plain": [
       "array([[5, 5, 5, 5],\n",
       "       [5, 5, 5, 5],\n",
       "       [5, 5, 5, 5]])"
      ]
     },
     "execution_count": 16,
     "metadata": {},
     "output_type": "execute_result"
    }
   ],
   "source": [
    "# Create a 3*4 array where all the elements should be 5\n",
    "\n",
    "arr=np.full((3,4),5)\n",
    "arr"
   ]
  },
  {
   "cell_type": "markdown",
   "id": "ce020cad",
   "metadata": {},
   "source": [
    "## 6. np.zeros_like()"
   ]
  },
  {
   "cell_type": "markdown",
   "id": "77a7458f",
   "metadata": {},
   "source": [
    "- It creates an array of 0's of the shape of the given array."
   ]
  },
  {
   "cell_type": "code",
   "execution_count": 17,
   "id": "f84e8b0a",
   "metadata": {},
   "outputs": [
    {
     "data": {
      "text/plain": [
       "array([[0, 0],\n",
       "       [0, 0],\n",
       "       [0, 0]])"
      ]
     },
     "execution_count": 17,
     "metadata": {},
     "output_type": "execute_result"
    }
   ],
   "source": [
    "arr=np.array([[10,50],[20,40],[78,22]])\n",
    "zr=np.zeros_like(arr)\n",
    "zr"
   ]
  },
  {
   "cell_type": "markdown",
   "id": "ff7e3e2f",
   "metadata": {},
   "source": [
    "## 7. np.ones_like()"
   ]
  },
  {
   "cell_type": "markdown",
   "id": "28327a6f",
   "metadata": {},
   "source": [
    "- It creates an arrays of 1's of the shape of the given array."
   ]
  },
  {
   "cell_type": "code",
   "execution_count": 18,
   "id": "ac8b50d3",
   "metadata": {},
   "outputs": [
    {
     "data": {
      "text/plain": [
       "array([[1, 1],\n",
       "       [1, 1],\n",
       "       [1, 1]])"
      ]
     },
     "execution_count": 18,
     "metadata": {},
     "output_type": "execute_result"
    }
   ],
   "source": [
    "arr=np.array([[10,50],[20,40],[78,22]])\n",
    "one=np.ones_like(arr)\n",
    "one"
   ]
  },
  {
   "cell_type": "markdown",
   "id": "dbb168ec",
   "metadata": {},
   "source": [
    "## 8. np.full_like()"
   ]
  },
  {
   "cell_type": "markdown",
   "id": "a1ea300d",
   "metadata": {},
   "source": [
    "- It creates an array of the given value and of the shape of the given array."
   ]
  },
  {
   "cell_type": "code",
   "execution_count": 19,
   "id": "1f318054",
   "metadata": {},
   "outputs": [
    {
     "data": {
      "text/plain": [
       "array([[10, 50],\n",
       "       [20, 40],\n",
       "       [78, 22]])"
      ]
     },
     "execution_count": 19,
     "metadata": {},
     "output_type": "execute_result"
    }
   ],
   "source": [
    "arr=np.array([[10,50],[20,40],[78,22]])\n",
    "arr"
   ]
  },
  {
   "cell_type": "code",
   "execution_count": 20,
   "id": "7b966bd8",
   "metadata": {},
   "outputs": [
    {
     "data": {
      "text/plain": [
       "array([[2.5, 2.5],\n",
       "       [2.5, 2.5],\n",
       "       [2.5, 2.5]])"
      ]
     },
     "execution_count": 20,
     "metadata": {},
     "output_type": "execute_result"
    }
   ],
   "source": [
    "np.full_like(arr,2.5,dtype=float)"
   ]
  },
  {
   "cell_type": "markdown",
   "id": "2a4210e6",
   "metadata": {},
   "source": [
    "## 9. np.eye()"
   ]
  },
  {
   "cell_type": "markdown",
   "id": "25ca50ce",
   "metadata": {},
   "source": [
    "- It creates an identity matrix\n",
    "- In an identity matrix the diagonals are ones and rest of the values are 0"
   ]
  },
  {
   "cell_type": "code",
   "execution_count": 21,
   "id": "51842128",
   "metadata": {},
   "outputs": [
    {
     "data": {
      "text/plain": [
       "array([[1, 0, 0],\n",
       "       [0, 1, 0],\n",
       "       [0, 0, 1]])"
      ]
     },
     "execution_count": 21,
     "metadata": {},
     "output_type": "execute_result"
    }
   ],
   "source": [
    "arr=np.eye(3,3,dtype=int)\n",
    "arr"
   ]
  },
  {
   "cell_type": "markdown",
   "id": "ce750879",
   "metadata": {},
   "source": [
    "<br>"
   ]
  },
  {
   "cell_type": "markdown",
   "id": "bf6d1b3a",
   "metadata": {},
   "source": [
    "## Reshaping an array"
   ]
  },
  {
   "cell_type": "markdown",
   "id": "c8a95cb4",
   "metadata": {},
   "source": [
    "- It reshapes array according to the rows and columns passed.\n",
    "- It returns a new array. It does not make the changes in the existing array."
   ]
  },
  {
   "cell_type": "code",
   "execution_count": 25,
   "id": "a3a8a127",
   "metadata": {},
   "outputs": [
    {
     "data": {
      "text/plain": [
       "array([0, 1, 2, 3, 4, 5, 6, 7, 8])"
      ]
     },
     "execution_count": 25,
     "metadata": {},
     "output_type": "execute_result"
    }
   ],
   "source": [
    "arr = np.arange(9)\n",
    "arr"
   ]
  },
  {
   "cell_type": "code",
   "execution_count": 27,
   "id": "43141d62",
   "metadata": {},
   "outputs": [
    {
     "data": {
      "text/plain": [
       "array([[0, 1, 2],\n",
       "       [3, 4, 5],\n",
       "       [6, 7, 8]])"
      ]
     },
     "execution_count": 27,
     "metadata": {},
     "output_type": "execute_result"
    }
   ],
   "source": [
    "arr1 = arr.reshape(3,3)\n",
    "arr1"
   ]
  },
  {
   "cell_type": "code",
   "execution_count": 28,
   "id": "a83bac02",
   "metadata": {},
   "outputs": [
    {
     "data": {
      "text/plain": [
       "(3, 3)"
      ]
     },
     "execution_count": 28,
     "metadata": {},
     "output_type": "execute_result"
    }
   ],
   "source": [
    "arr1.shape"
   ]
  },
  {
   "cell_type": "code",
   "execution_count": 29,
   "id": "075b0f81",
   "metadata": {},
   "outputs": [
    {
     "data": {
      "text/plain": [
       "array([[0, 3, 6],\n",
       "       [1, 4, 7],\n",
       "       [2, 5, 8]])"
      ]
     },
     "execution_count": 29,
     "metadata": {},
     "output_type": "execute_result"
    }
   ],
   "source": [
    "arr1.T"
   ]
  },
  {
   "cell_type": "markdown",
   "id": "e578c588",
   "metadata": {},
   "source": [
    "# Flattening a NumPy array"
   ]
  },
  {
   "cell_type": "markdown",
   "id": "15ba7d94",
   "metadata": {},
   "source": [
    "- Sometimes when you have a multidimensional array and want to collapse it to a single-dimensional array, you can either use the flatten() method or the ravel() method"
   ]
  },
  {
   "cell_type": "code",
   "execution_count": 77,
   "id": "5b63ed64",
   "metadata": {},
   "outputs": [
    {
     "name": "stdout",
     "output_type": "stream",
     "text": [
      "Original shape : (2, 2)\n",
      "Array : \n",
      " [[1. 1.]\n",
      " [1. 1.]]\n",
      "Shape after flatten : (4,)\n",
      "Array : \n",
      " [1. 1. 1. 1.]\n",
      "Shape after ravel : (4,)\n",
      "Array : \n",
      " [1. 1. 1. 1.]\n"
     ]
    }
   ],
   "source": [
    "a = np.ones((2,2))\n",
    "b = a.flatten()\n",
    "c = a.ravel()\n",
    "print('Original shape :', a.shape)\n",
    "print('Array :','\\n', a)\n",
    "print('Shape after flatten :',b.shape)\n",
    "print('Array :','\\n', b)\n",
    "print('Shape after ravel :',c.shape)\n",
    "print('Array :','\\n', c)"
   ]
  },
  {
   "cell_type": "markdown",
   "id": "4430c08b",
   "metadata": {},
   "source": [
    "- But an important difference between flatten() and ravel() is that the former returns a copy of the original array while the latter returns a reference to the original array. This means any changes made to the array returned from ravel() will also be reflected in the original array while this will not be the case with flatten().\n",
    "- What is happening here is that flatten() creates a Deep copy of the ndarray while ravel() creates a Shallow copy of the ndarray.\n",
    "- Deep copy means that a completely new ndarray is created in memory and the ndarray object returned by flatten() is now pointing to this memory location. Therefore, any changes made here will not be reflected in the original ndarray.\n",
    "- A Shallow copy, on the other hand, returns a reference to the original memory location. Meaning the object returned by ravel() is pointing to the same memory location as the original ndarray object. So, definitely, any changes made to this ndarray will also be reflected in the original ndarray too."
   ]
  },
  {
   "cell_type": "code",
   "execution_count": 78,
   "id": "6e1cfa96",
   "metadata": {},
   "outputs": [
    {
     "data": {
      "image/png": "[encoded data removed]",
      "text/plain": [
       "<PIL.PngImagePlugin.PngImageFile image mode=RGBA size=491x451>"
      ]
     },
     "execution_count": 78,
     "metadata": {},
     "output_type": "execute_result"
    }
   ],
   "source": [
    "from PIL import Image\n",
    "\n",
    "Image.open('Shallow-deep-copy.png', 'r')"
   ]
  },
  {
   "cell_type": "markdown",
   "id": "f7483305",
   "metadata": {},
   "source": [
    "<br>"
   ]
  },
  {
   "cell_type": "markdown",
   "id": "52f1fb58",
   "metadata": {},
   "source": [
    "# 2D array"
   ]
  },
  {
   "cell_type": "code",
   "execution_count": 30,
   "id": "3002e7a3",
   "metadata": {},
   "outputs": [
    {
     "data": {
      "text/plain": [
       "array([[0, 1, 2],\n",
       "       [3, 4, 5],\n",
       "       [6, 7, 8]])"
      ]
     },
     "execution_count": 30,
     "metadata": {},
     "output_type": "execute_result"
    }
   ],
   "source": [
    "arr1"
   ]
  },
  {
   "cell_type": "markdown",
   "id": "3abb0d63",
   "metadata": {},
   "source": [
    "<br>"
   ]
  },
  {
   "cell_type": "markdown",
   "id": "ea4d222b",
   "metadata": {},
   "source": [
    "# 3D array"
   ]
  },
  {
   "cell_type": "markdown",
   "id": "ff753112",
   "metadata": {},
   "source": [
    "- arr.reshape(number of arrays, rows, cols)"
   ]
  },
  {
   "cell_type": "code",
   "execution_count": 31,
   "id": "30bbf256",
   "metadata": {},
   "outputs": [
    {
     "data": {
      "text/plain": [
       "array([[[ 0,  1,  2],\n",
       "        [ 3,  4,  5],\n",
       "        [ 6,  7,  8],\n",
       "        [ 9, 10, 11]],\n",
       "\n",
       "       [[12, 13, 14],\n",
       "        [15, 16, 17],\n",
       "        [18, 19, 20],\n",
       "        [21, 22, 23]],\n",
       "\n",
       "       [[24, 25, 26],\n",
       "        [27, 28, 29],\n",
       "        [30, 31, 32],\n",
       "        [33, 34, 35]]])"
      ]
     },
     "execution_count": 31,
     "metadata": {},
     "output_type": "execute_result"
    }
   ],
   "source": [
    "arr3d = np.arange(36).reshape(3,4,3)\n",
    "arr3d"
   ]
  },
  {
   "cell_type": "markdown",
   "id": "f8dae35b",
   "metadata": {},
   "source": [
    "# Indexing of a 1D array"
   ]
  },
  {
   "cell_type": "code",
   "execution_count": 35,
   "id": "3c087179",
   "metadata": {},
   "outputs": [
    {
     "data": {
      "text/plain": [
       "array([10, 20, 30, 40, 50, 60, 70, 80, 90])"
      ]
     },
     "execution_count": 35,
     "metadata": {},
     "output_type": "execute_result"
    }
   ],
   "source": [
    "arr=np.array([10,20,30,40,50,60,70,80,90])\n",
    "arr"
   ]
  },
  {
   "cell_type": "code",
   "execution_count": 38,
   "id": "c6a3c378",
   "metadata": {},
   "outputs": [
    {
     "name": "stdout",
     "output_type": "stream",
     "text": [
      "10\n",
      "10\n",
      "10\n",
      "90\n",
      "90\n",
      "90\n",
      "40\n",
      "40\n"
     ]
    }
   ],
   "source": [
    "# Fetch the first element of the array\n",
    "print(arr[0])\n",
    "print(arr[-9])\n",
    "print(arr[-arr.size])\n",
    "\n",
    "# Fetch the last element\n",
    "print(arr[-1])\n",
    "print(arr[8])\n",
    "print(arr[arr.size-1])\n",
    "\n",
    "# Fetch 40\n",
    "print(arr[3])\n",
    "print(arr[-6])"
   ]
  },
  {
   "cell_type": "markdown",
   "id": "73b552fa",
   "metadata": {},
   "source": [
    "<br>"
   ]
  },
  {
   "cell_type": "markdown",
   "id": "9112a640",
   "metadata": {},
   "source": [
    "# Slicing of a 1D array"
   ]
  },
  {
   "cell_type": "markdown",
   "id": "0d1fb74f",
   "metadata": {},
   "source": [
    "- arr[start:stop:step]\n",
    "- Stop is excluded\n",
    "- Step is 1 by default"
   ]
  },
  {
   "cell_type": "code",
   "execution_count": 39,
   "id": "d19b5ae0",
   "metadata": {},
   "outputs": [
    {
     "name": "stdout",
     "output_type": "stream",
     "text": [
      "[10 20 30 40]\n",
      "[10 20 30 40]\n",
      "[10 20 30 40]\n",
      "[10 30 50 70 90]\n",
      "[10 30 50 70 90]\n",
      "[90 80 70 60 50 40 30 20 10]\n",
      "[90 60 30]\n"
     ]
    }
   ],
   "source": [
    "# Fetch the first 4 elements.\n",
    "print(arr[0:4:1])\n",
    "print(arr[0:4])\n",
    "print(arr[:4])\n",
    "\n",
    "# Fetch every alternate element in positive direction\n",
    "print(arr[0:arr.size:2])\n",
    "print(arr[::2])\n",
    "\n",
    "# Reverse the array\n",
    "print(arr[::-1])\n",
    "\n",
    "# Fetch [90,60,30]\n",
    "print(arr[::-3])"
   ]
  },
  {
   "cell_type": "markdown",
   "id": "6a517f0e",
   "metadata": {},
   "source": [
    "<br>"
   ]
  },
  {
   "cell_type": "markdown",
   "id": "464c05c0",
   "metadata": {},
   "source": [
    "# Indexing of a 2D array"
   ]
  },
  {
   "cell_type": "markdown",
   "id": "13a2c4f2",
   "metadata": {},
   "source": [
    "- arr[row_index]\n",
    "- arr[row_index,col_index]"
   ]
  },
  {
   "cell_type": "code",
   "execution_count": 40,
   "id": "2fec748b",
   "metadata": {},
   "outputs": [
    {
     "data": {
      "text/plain": [
       "array([[10, 20, 30],\n",
       "       [40, 50, 60],\n",
       "       [70, 80, 90]])"
      ]
     },
     "execution_count": 40,
     "metadata": {},
     "output_type": "execute_result"
    }
   ],
   "source": [
    "arr=np.array([10,20,30,40,50,60,70,80,90]).reshape(3,3)\n",
    "arr"
   ]
  },
  {
   "cell_type": "code",
   "execution_count": 41,
   "id": "ba0d52d7",
   "metadata": {},
   "outputs": [
    {
     "name": "stdout",
     "output_type": "stream",
     "text": [
      "[10 20 30]\n",
      "[70 80 90]\n",
      "[70 80 90]\n",
      "10\n",
      "10\n",
      "10\n",
      "70\n"
     ]
    }
   ],
   "source": [
    "# Get the first row\n",
    "print(arr[0])\n",
    "\n",
    "# Get the last row\n",
    "print(arr[2])\n",
    "print(arr[-1])\n",
    "\n",
    "# Fetch 10\n",
    "print(arr[0,0])\n",
    "print(arr[-3,-3])\n",
    "print(arr[0,-3])\n",
    "\n",
    "# Fetch 70\n",
    "print(arr[2,0])"
   ]
  },
  {
   "cell_type": "markdown",
   "id": "b8673777",
   "metadata": {},
   "source": [
    "# Slicing of a 2D array"
   ]
  },
  {
   "cell_type": "markdown",
   "id": "bf6a0a79",
   "metadata": {},
   "source": [
    "- arr[row_slicing]\n",
    "- arr[start:stop:step]\n",
    "\n",
    "- arr[row_slicing,col_slicing]\n",
    "- arr[start:stop:step,start:stop:step]"
   ]
  },
  {
   "cell_type": "code",
   "execution_count": 42,
   "id": "7425d2ee",
   "metadata": {},
   "outputs": [
    {
     "data": {
      "text/plain": [
       "array([[ 10,  20,  30,  40],\n",
       "       [ 50,  60,  70,  80],\n",
       "       [ 90, 100, 200, 300]])"
      ]
     },
     "execution_count": 42,
     "metadata": {},
     "output_type": "execute_result"
    }
   ],
   "source": [
    "arr=np.array([10,20,30,40,50,60,70,80,90,100,200,300]).reshape(3,4)\n",
    "arr"
   ]
  },
  {
   "cell_type": "code",
   "execution_count": 45,
   "id": "877caf3e",
   "metadata": {},
   "outputs": [
    {
     "name": "stdout",
     "output_type": "stream",
     "text": [
      "[[10 20 30 40]\n",
      " [50 60 70 80]]\n",
      "\n",
      "[[10 20 30 40]\n",
      " [50 60 70 80]]\n",
      "\n",
      "[[ 10  20  30  40]\n",
      " [ 90 100 200 300]]\n",
      "\n",
      "[[ 90 100 200 300]\n",
      " [ 50  60  70  80]\n",
      " [ 10  20  30  40]]\n",
      "\n",
      "[10 50 90]\n",
      "\n",
      "[[ 10  20]\n",
      " [ 50  60]\n",
      " [ 90 100]]\n",
      "\n",
      "[[ 10  30]\n",
      " [ 50  70]\n",
      " [ 90 200]]\n",
      "\n",
      "[[ 40  30  20  10]\n",
      " [ 80  70  60  50]\n",
      " [300 200 100  90]]\n",
      "\n"
     ]
    }
   ],
   "source": [
    "# Get the first two rows\n",
    "print(arr[0:2:1])\n",
    "print()\n",
    "\n",
    "print(arr[:2:])\n",
    "print()\n",
    "\n",
    "# Get the alternate rows\n",
    "print(arr[::2])\n",
    "print()\n",
    "\n",
    "# Reverse the rows\n",
    "print(arr[::-1])\n",
    "print()\n",
    "\n",
    "# Get the first column\n",
    "print(arr[::,0])\n",
    "print()\n",
    "\n",
    "# Get the first two columns\n",
    "print(arr[::,0:2])\n",
    "print()\n",
    "\n",
    "# Alternate columns\n",
    "print(arr[::,::2])\n",
    "print()\n",
    "\n",
    "# Reverse the columns\n",
    "print(arr[::,::-1])\n",
    "print()\n"
   ]
  },
  {
   "cell_type": "markdown",
   "id": "6fce050f",
   "metadata": {},
   "source": [
    "# Indexing of a 3d array"
   ]
  },
  {
   "cell_type": "markdown",
   "id": "1a9109ad",
   "metadata": {},
   "source": [
    "- arr[arry_index]\n",
    "- arr[arr_index,row_index,col_index]"
   ]
  },
  {
   "cell_type": "code",
   "execution_count": 46,
   "id": "8c8ebe18",
   "metadata": {},
   "outputs": [
    {
     "data": {
      "text/plain": [
       "array([[[38, 21, 23, 33],\n",
       "        [96, 38, 42, 79],\n",
       "        [21, 45, 43, 15],\n",
       "        [26, 21, 64, 56]],\n",
       "\n",
       "       [[52, 71, 55, 89],\n",
       "        [64, 86, 73, 49],\n",
       "        [32, 81, 49, 17],\n",
       "        [73, 30, 44, 53]],\n",
       "\n",
       "       [[88, 94, 84, 74],\n",
       "        [69, 73, 75, 92],\n",
       "        [16, 35, 96, 25],\n",
       "        [95, 36, 10, 48]]])"
      ]
     },
     "execution_count": 46,
     "metadata": {},
     "output_type": "execute_result"
    }
   ],
   "source": [
    "np.random.seed(52)\n",
    "arr=np.random.randint(10,100,48).reshape(3,4,4)\n",
    "arr"
   ]
  },
  {
   "cell_type": "code",
   "execution_count": 47,
   "id": "5a56a8ec",
   "metadata": {},
   "outputs": [
    {
     "data": {
      "text/plain": [
       "array([[38, 21, 23, 33],\n",
       "       [96, 38, 42, 79],\n",
       "       [21, 45, 43, 15],\n",
       "       [26, 21, 64, 56]])"
      ]
     },
     "execution_count": 47,
     "metadata": {},
     "output_type": "execute_result"
    }
   ],
   "source": [
    "# Fetch the first array\n",
    "arr[0]"
   ]
  },
  {
   "cell_type": "code",
   "execution_count": 48,
   "id": "9b6fa36b",
   "metadata": {},
   "outputs": [
    {
     "data": {
      "text/plain": [
       "array([[88, 94, 84, 74],\n",
       "       [69, 73, 75, 92],\n",
       "       [16, 35, 96, 25],\n",
       "       [95, 36, 10, 48]])"
      ]
     },
     "execution_count": 48,
     "metadata": {},
     "output_type": "execute_result"
    }
   ],
   "source": [
    "# Fetch the last array\n",
    "arr[2]"
   ]
  },
  {
   "cell_type": "code",
   "execution_count": 51,
   "id": "ffdfbdd3",
   "metadata": {},
   "outputs": [
    {
     "data": {
      "text/plain": [
       "array([38, 21, 23, 33])"
      ]
     },
     "execution_count": 51,
     "metadata": {},
     "output_type": "execute_result"
    }
   ],
   "source": [
    "# Get the first row from the first array\n",
    "arr[0,0]"
   ]
  },
  {
   "cell_type": "code",
   "execution_count": 52,
   "id": "8f2a7abe",
   "metadata": {},
   "outputs": [
    {
     "data": {
      "text/plain": [
       "array([73, 30, 44, 53])"
      ]
     },
     "execution_count": 52,
     "metadata": {},
     "output_type": "execute_result"
    }
   ],
   "source": [
    "# Get the last row from the second array\n",
    "arr[1,-1]"
   ]
  },
  {
   "cell_type": "code",
   "execution_count": 53,
   "id": "e2434414",
   "metadata": {},
   "outputs": [
    {
     "data": {
      "text/plain": [
       "75"
      ]
     },
     "execution_count": 53,
     "metadata": {},
     "output_type": "execute_result"
    }
   ],
   "source": [
    "# From the last array fetch 75\n",
    "arr[2,1,-2]"
   ]
  },
  {
   "cell_type": "code",
   "execution_count": 54,
   "id": "ec8608ac",
   "metadata": {},
   "outputs": [
    {
     "data": {
      "text/plain": [
       "81"
      ]
     },
     "execution_count": 54,
     "metadata": {},
     "output_type": "execute_result"
    }
   ],
   "source": [
    "# Fetch 81 from the second array\n",
    "arr[1,2,1]"
   ]
  },
  {
   "cell_type": "markdown",
   "id": "6cd4dbe7",
   "metadata": {},
   "source": [
    "# Slicing of a 3d array"
   ]
  },
  {
   "cell_type": "markdown",
   "id": "65578878",
   "metadata": {},
   "source": [
    "- arr[array_slicing]\n",
    "- arr[start:stop:step]\n",
    "- arr[arry_slicing,row_slicing,col_slicing]\n",
    "- arr[start:stop:step,start:stop:step,start:stop:step]\n"
   ]
  },
  {
   "cell_type": "code",
   "execution_count": 55,
   "id": "c5121fb7",
   "metadata": {},
   "outputs": [
    {
     "data": {
      "text/plain": [
       "array([[[38, 21, 23, 33],\n",
       "        [96, 38, 42, 79],\n",
       "        [21, 45, 43, 15],\n",
       "        [26, 21, 64, 56]],\n",
       "\n",
       "       [[52, 71, 55, 89],\n",
       "        [64, 86, 73, 49],\n",
       "        [32, 81, 49, 17],\n",
       "        [73, 30, 44, 53]],\n",
       "\n",
       "       [[88, 94, 84, 74],\n",
       "        [69, 73, 75, 92],\n",
       "        [16, 35, 96, 25],\n",
       "        [95, 36, 10, 48]]])"
      ]
     },
     "execution_count": 55,
     "metadata": {},
     "output_type": "execute_result"
    }
   ],
   "source": [
    "arr"
   ]
  },
  {
   "cell_type": "code",
   "execution_count": 56,
   "id": "dc2f9823",
   "metadata": {},
   "outputs": [
    {
     "data": {
      "text/plain": [
       "array([[[38, 21, 23, 33],\n",
       "        [96, 38, 42, 79],\n",
       "        [21, 45, 43, 15],\n",
       "        [26, 21, 64, 56]],\n",
       "\n",
       "       [[52, 71, 55, 89],\n",
       "        [64, 86, 73, 49],\n",
       "        [32, 81, 49, 17],\n",
       "        [73, 30, 44, 53]]])"
      ]
     },
     "execution_count": 56,
     "metadata": {},
     "output_type": "execute_result"
    }
   ],
   "source": [
    "# Get the first two arrays\n",
    "arr[0:2]"
   ]
  },
  {
   "cell_type": "code",
   "execution_count": 57,
   "id": "5ed44e70",
   "metadata": {},
   "outputs": [
    {
     "data": {
      "text/plain": [
       "array([[[52, 71, 55, 89],\n",
       "        [64, 86, 73, 49],\n",
       "        [32, 81, 49, 17],\n",
       "        [73, 30, 44, 53]],\n",
       "\n",
       "       [[88, 94, 84, 74],\n",
       "        [69, 73, 75, 92],\n",
       "        [16, 35, 96, 25],\n",
       "        [95, 36, 10, 48]]])"
      ]
     },
     "execution_count": 57,
     "metadata": {},
     "output_type": "execute_result"
    }
   ],
   "source": [
    "# Get the second and the third array\n",
    "arr[1:3]"
   ]
  },
  {
   "cell_type": "code",
   "execution_count": 58,
   "id": "bf954c6c",
   "metadata": {},
   "outputs": [
    {
     "data": {
      "text/plain": [
       "array([[[38, 21, 23, 33],\n",
       "        [96, 38, 42, 79],\n",
       "        [21, 45, 43, 15],\n",
       "        [26, 21, 64, 56]],\n",
       "\n",
       "       [[88, 94, 84, 74],\n",
       "        [69, 73, 75, 92],\n",
       "        [16, 35, 96, 25],\n",
       "        [95, 36, 10, 48]]])"
      ]
     },
     "execution_count": 58,
     "metadata": {},
     "output_type": "execute_result"
    }
   ],
   "source": [
    "# Get the first and the last array\n",
    "arr[::2]"
   ]
  },
  {
   "cell_type": "code",
   "execution_count": 59,
   "id": "03bce17a",
   "metadata": {},
   "outputs": [
    {
     "data": {
      "text/plain": [
       "array([[[88, 94, 84, 74],\n",
       "        [69, 73, 75, 92],\n",
       "        [16, 35, 96, 25],\n",
       "        [95, 36, 10, 48]],\n",
       "\n",
       "       [[52, 71, 55, 89],\n",
       "        [64, 86, 73, 49],\n",
       "        [32, 81, 49, 17],\n",
       "        [73, 30, 44, 53]],\n",
       "\n",
       "       [[38, 21, 23, 33],\n",
       "        [96, 38, 42, 79],\n",
       "        [21, 45, 43, 15],\n",
       "        [26, 21, 64, 56]]])"
      ]
     },
     "execution_count": 59,
     "metadata": {},
     "output_type": "execute_result"
    }
   ],
   "source": [
    "# Reverse the arrays\n",
    "arr[::-1]"
   ]
  },
  {
   "cell_type": "code",
   "execution_count": 60,
   "id": "d0ec587c",
   "metadata": {},
   "outputs": [
    {
     "data": {
      "text/plain": [
       "array([[[38, 21, 23, 33],\n",
       "        [96, 38, 42, 79]],\n",
       "\n",
       "       [[52, 71, 55, 89],\n",
       "        [64, 86, 73, 49]],\n",
       "\n",
       "       [[88, 94, 84, 74],\n",
       "        [69, 73, 75, 92]]])"
      ]
     },
     "execution_count": 60,
     "metadata": {},
     "output_type": "execute_result"
    }
   ],
   "source": [
    "# First two rows of all the arrays\n",
    "arr[::,0:2]"
   ]
  },
  {
   "cell_type": "code",
   "execution_count": 61,
   "id": "588efe3a",
   "metadata": {},
   "outputs": [
    {
     "data": {
      "text/plain": [
       "array([[[26, 21, 64, 56],\n",
       "        [21, 45, 43, 15],\n",
       "        [96, 38, 42, 79],\n",
       "        [38, 21, 23, 33]],\n",
       "\n",
       "       [[73, 30, 44, 53],\n",
       "        [32, 81, 49, 17],\n",
       "        [64, 86, 73, 49],\n",
       "        [52, 71, 55, 89]],\n",
       "\n",
       "       [[95, 36, 10, 48],\n",
       "        [16, 35, 96, 25],\n",
       "        [69, 73, 75, 92],\n",
       "        [88, 94, 84, 74]]])"
      ]
     },
     "execution_count": 61,
     "metadata": {},
     "output_type": "execute_result"
    }
   ],
   "source": [
    "# Get the rows in reverse order of all the arrays\n",
    "arr[::,::-1]"
   ]
  },
  {
   "cell_type": "code",
   "execution_count": 62,
   "id": "67e71ccc",
   "metadata": {},
   "outputs": [
    {
     "data": {
      "text/plain": [
       "array([[[38, 21, 23, 33],\n",
       "        [21, 45, 43, 15]],\n",
       "\n",
       "       [[52, 71, 55, 89],\n",
       "        [32, 81, 49, 17]]])"
      ]
     },
     "execution_count": 62,
     "metadata": {},
     "output_type": "execute_result"
    }
   ],
   "source": [
    "# Every alternate row of the first two arrays\n",
    "arr[0:2,::2]"
   ]
  },
  {
   "cell_type": "code",
   "execution_count": 63,
   "id": "adbff790",
   "metadata": {},
   "outputs": [
    {
     "data": {
      "text/plain": [
       "array([[[38],\n",
       "        [96],\n",
       "        [21],\n",
       "        [26]],\n",
       "\n",
       "       [[52],\n",
       "        [64],\n",
       "        [32],\n",
       "        [73]],\n",
       "\n",
       "       [[88],\n",
       "        [69],\n",
       "        [16],\n",
       "        [95]]])"
      ]
     },
     "execution_count": 63,
     "metadata": {},
     "output_type": "execute_result"
    }
   ],
   "source": [
    "# Get the first column from each array\n",
    "arr[::,::,0:1]"
   ]
  },
  {
   "cell_type": "code",
   "execution_count": 64,
   "id": "82d70727",
   "metadata": {},
   "outputs": [
    {
     "data": {
      "text/plain": [
       "array([[[23, 33],\n",
       "        [42, 79],\n",
       "        [43, 15],\n",
       "        [64, 56]],\n",
       "\n",
       "       [[84, 74],\n",
       "        [75, 92],\n",
       "        [96, 25],\n",
       "        [10, 48]]])"
      ]
     },
     "execution_count": 64,
     "metadata": {},
     "output_type": "execute_result"
    }
   ],
   "source": [
    "# 3 and 4th columns from the alternate arrays\n",
    "arr[::2,::,2:]\n"
   ]
  },
  {
   "cell_type": "code",
   "execution_count": 65,
   "id": "526a4dc9",
   "metadata": {},
   "outputs": [
    {
     "data": {
      "text/plain": [
       "array([[[33, 23, 21, 38],\n",
       "        [79, 42, 38, 96],\n",
       "        [15, 43, 45, 21],\n",
       "        [56, 64, 21, 26]],\n",
       "\n",
       "       [[89, 55, 71, 52],\n",
       "        [49, 73, 86, 64],\n",
       "        [17, 49, 81, 32],\n",
       "        [53, 44, 30, 73]],\n",
       "\n",
       "       [[74, 84, 94, 88],\n",
       "        [92, 75, 73, 69],\n",
       "        [25, 96, 35, 16],\n",
       "        [48, 10, 36, 95]]])"
      ]
     },
     "execution_count": 65,
     "metadata": {},
     "output_type": "execute_result"
    }
   ],
   "source": [
    "# Reverse the columns only of all the arrays\n",
    "arr[::,::,::-1]"
   ]
  },
  {
   "cell_type": "code",
   "execution_count": 66,
   "id": "58f2f23c",
   "metadata": {},
   "outputs": [
    {
     "data": {
      "text/plain": [
       "array([[[48, 10, 36, 95],\n",
       "        [25, 96, 35, 16],\n",
       "        [92, 75, 73, 69],\n",
       "        [74, 84, 94, 88]],\n",
       "\n",
       "       [[53, 44, 30, 73],\n",
       "        [17, 49, 81, 32],\n",
       "        [49, 73, 86, 64],\n",
       "        [89, 55, 71, 52]],\n",
       "\n",
       "       [[56, 64, 21, 26],\n",
       "        [15, 43, 45, 21],\n",
       "        [79, 42, 38, 96],\n",
       "        [33, 23, 21, 38]]])"
      ]
     },
     "execution_count": 66,
     "metadata": {},
     "output_type": "execute_result"
    }
   ],
   "source": [
    "# Reverse the arrays, rows and columns\n",
    "arr[::-1,::-1,::-1]"
   ]
  },
  {
   "cell_type": "markdown",
   "id": "dcf9656a",
   "metadata": {},
   "source": [
    "# Stacking ndarrays"
   ]
  },
  {
   "cell_type": "markdown",
   "id": "d404fd12",
   "metadata": {},
   "source": [
    "- You can create a new array by combining existing arrays. This you can do in two ways:\n",
    " - Either combine the arrays vertically (i.e. along the rows) using the vstack() method, thereby increasing the number of rows in the resulting array\n",
    " - Or combine the arrays in a horizontal fashion (i.e. along the columns) using the hstack(), thereby increasing the number of columns in the resultant array"
   ]
  },
  {
   "cell_type": "code",
   "execution_count": 79,
   "id": "30a0be8d",
   "metadata": {},
   "outputs": [
    {
     "data": {
      "image/png": "[encoded data removed]",
      "text/plain": [
       "<PIL.PngImagePlugin.PngImageFile image mode=RGBA size=768x242>"
      ]
     },
     "execution_count": 79,
     "metadata": {},
     "output_type": "execute_result"
    }
   ],
   "source": [
    "from PIL import Image\n",
    "\n",
    "Image.open('Stacking.png', 'r')"
   ]
  },
  {
   "cell_type": "code",
   "execution_count": 80,
   "id": "b58944c4",
   "metadata": {},
   "outputs": [
    {
     "name": "stdout",
     "output_type": "stream",
     "text": [
      "Array 1 : \n",
      " [0 1 2 3 4]\n",
      "Array 2 : \n",
      " [5 6 7 8 9]\n",
      "Vertical stacking : \n",
      " [[0 1 2 3 4]\n",
      " [5 6 7 8 9]]\n",
      "Horizontal stacking : \n",
      " [0 1 2 3 4 5 6 7 8 9]\n"
     ]
    }
   ],
   "source": [
    "a = np.arange(0,5)\n",
    "b = np.arange(5,10)\n",
    "print('Array 1 :','\\n',a)\n",
    "print('Array 2 :','\\n',b)\n",
    "print('Vertical stacking :','\\n',np.vstack((a,b)))\n",
    "print('Horizontal stacking :','\\n',np.hstack((a,b)))"
   ]
  },
  {
   "cell_type": "markdown",
   "id": "7200919e",
   "metadata": {},
   "source": [
    "- A point to note here is that the axis along which you are combining the array should have the same size otherwise you are bound to get an error!"
   ]
  },
  {
   "cell_type": "markdown",
   "id": "31730def",
   "metadata": {},
   "source": [
    "- Another interesting way to combine arrays is using the dstack() method. It combines array elements index by index and stacks them along the depth axis:"
   ]
  },
  {
   "cell_type": "code",
   "execution_count": 81,
   "id": "1c8ffa00",
   "metadata": {},
   "outputs": [
    {
     "name": "stdout",
     "output_type": "stream",
     "text": [
      "Array 1 : \n",
      " [[1, 2], [3, 4]]\n",
      "Array 2 : \n",
      " [[5, 6], [7, 8]]\n",
      "Dstack : \n",
      " [[[1 5]\n",
      "  [2 6]]\n",
      "\n",
      " [[3 7]\n",
      "  [4 8]]]\n",
      "(2, 2, 2)\n"
     ]
    }
   ],
   "source": [
    "a = [[1,2],[3,4]]\n",
    "b = [[5,6],[7,8]]\n",
    "c = np.dstack((a,b))\n",
    "print('Array 1 :','\\n',a)\n",
    "print('Array 2 :','\\n',b)\n",
    "print('Dstack :','\\n',c)\n",
    "print(c.shape)"
   ]
  },
  {
   "cell_type": "markdown",
   "id": "5b8b3821",
   "metadata": {},
   "source": [
    "# Concatenating ndarrays"
   ]
  },
  {
   "cell_type": "markdown",
   "id": "c6908eb0",
   "metadata": {},
   "source": [
    "- While stacking arrays is one way of combining old arrays to get a new one, you could also use the concatenate() method where the passed arrays are joined along an existing axis:"
   ]
  },
  {
   "cell_type": "code",
   "execution_count": 82,
   "id": "d26f1b00",
   "metadata": {},
   "outputs": [
    {
     "name": "stdout",
     "output_type": "stream",
     "text": [
      "Array 1 : \n",
      " [[0 1 2 3 4]]\n",
      "Array 2 : \n",
      " [[5 6 7 8 9]]\n",
      "Concatenate along rows : \n",
      " [[0 1 2 3 4]\n",
      " [5 6 7 8 9]]\n",
      "Concatenate along columns : \n",
      " [[0 1 2 3 4 5 6 7 8 9]]\n"
     ]
    }
   ],
   "source": [
    "a = np.arange(0,5).reshape(1,5)\n",
    "b = np.arange(5,10).reshape(1,5)\n",
    "print('Array 1 :','\\n',a)\n",
    "print('Array 2 :','\\n',b)\n",
    "print('Concatenate along rows :','\\n',np.concatenate((a,b),axis=0))\n",
    "print('Concatenate along columns :','\\n',np.concatenate((a,b),axis=1))"
   ]
  },
  {
   "cell_type": "markdown",
   "id": "dc1fe0c6",
   "metadata": {},
   "source": [
    "- The drawback of this method is that the original array must have the axis along which you want to combine. Otherwise, get ready to be greeted by an error."
   ]
  },
  {
   "cell_type": "markdown",
   "id": "30ef722e",
   "metadata": {},
   "source": [
    "- Another very useful function is the append method that adds new elements to the end of a ndarray. This is obviously useful when you already have an existing ndarray but want to add new values to it."
   ]
  },
  {
   "cell_type": "code",
   "execution_count": 84,
   "id": "f4f80ce5",
   "metadata": {},
   "outputs": [
    {
     "data": {
      "text/plain": [
       "array([[1, 2],\n",
       "       [3, 4],\n",
       "       [5, 6]])"
      ]
     },
     "execution_count": 84,
     "metadata": {},
     "output_type": "execute_result"
    }
   ],
   "source": [
    "# append values to ndarray\n",
    "a = np.array([[1,2],\n",
    "             [3,4]])\n",
    "np.append(a,[[5,6]], axis=0)"
   ]
  },
  {
   "cell_type": "markdown",
   "id": "ea1b3eec",
   "metadata": {},
   "source": [
    "# Arrays of Random Values"
   ]
  },
  {
   "cell_type": "markdown",
   "id": "fccd04f4",
   "metadata": {},
   "source": [
    "- In Numpy there is a module random that is used to generate different kind of random values."
   ]
  },
  {
   "cell_type": "markdown",
   "id": "4efe450e",
   "metadata": {},
   "source": [
    "# 1. random()"
   ]
  },
  {
   "cell_type": "markdown",
   "id": "e8fc2b33",
   "metadata": {},
   "source": [
    "- generates random values between 0 and 1\n",
    "- np.random.random(the no. of values)"
   ]
  },
  {
   "cell_type": "code",
   "execution_count": 67,
   "id": "d9aabbc1",
   "metadata": {},
   "outputs": [
    {
     "data": {
      "text/plain": [
       "array([0.74306691])"
      ]
     },
     "execution_count": 67,
     "metadata": {},
     "output_type": "execute_result"
    }
   ],
   "source": [
    "np.random.random(1)"
   ]
  },
  {
   "cell_type": "code",
   "execution_count": 69,
   "id": "eb0c82f9",
   "metadata": {},
   "outputs": [
    {
     "data": {
      "text/plain": [
       "array([0.02002256, 0.45082671, 0.04742287, 0.4977275 , 0.858774  ])"
      ]
     },
     "execution_count": 69,
     "metadata": {},
     "output_type": "execute_result"
    }
   ],
   "source": [
    "np.random.random(5)"
   ]
  },
  {
   "cell_type": "markdown",
   "id": "81a5f384",
   "metadata": {},
   "source": [
    "# 2. rand()"
   ]
  },
  {
   "cell_type": "markdown",
   "id": "72952981",
   "metadata": {},
   "source": [
    "- it returns an array of the given shape of the random values\n",
    "- np.random.rand(rows, cols)"
   ]
  },
  {
   "cell_type": "code",
   "execution_count": 70,
   "id": "e2635bd8",
   "metadata": {},
   "outputs": [
    {
     "data": {
      "text/plain": [
       "array([[0.33481566, 0.90159003, 0.12288755, 0.15743375],\n",
       "       [0.78738529, 0.66493906, 0.72020417, 0.53925532],\n",
       "       [0.47194745, 0.9006875 , 0.37451251, 0.52778644]])"
      ]
     },
     "execution_count": 70,
     "metadata": {},
     "output_type": "execute_result"
    }
   ],
   "source": [
    "arr = np.random.rand(3,4)\n",
    "arr"
   ]
  },
  {
   "cell_type": "markdown",
   "id": "52372d42",
   "metadata": {},
   "source": [
    "# 3. randint()"
   ]
  },
  {
   "cell_type": "markdown",
   "id": "7a1e75db",
   "metadata": {},
   "source": [
    "- it generates the random int values between a range\n",
    "- np.random.randint(start,stop,number of values)\n",
    "- Stop value is excluded"
   ]
  },
  {
   "cell_type": "code",
   "execution_count": 71,
   "id": "cfae0ab6",
   "metadata": {},
   "outputs": [
    {
     "data": {
      "text/plain": [
       "array([ 8,  7, 10,  8,  5,  8,  1,  2,  6,  2, 10,  5,  1, 10,  7])"
      ]
     },
     "execution_count": 71,
     "metadata": {},
     "output_type": "execute_result"
    }
   ],
   "source": [
    "# Between 1 and 10 generate 15 random int numbers\n",
    "np.random.randint(1,11,15)"
   ]
  },
  {
   "cell_type": "code",
   "execution_count": 72,
   "id": "a3aff2e3",
   "metadata": {},
   "outputs": [
    {
     "data": {
      "text/plain": [
       "array([82, 40, 39, 32, 30, 95, 11, 90, 60, 26, 28, 41])"
      ]
     },
     "execution_count": 72,
     "metadata": {},
     "output_type": "execute_result"
    }
   ],
   "source": [
    "# Between 10 and 100 generate 12 random numbers of two digits\n",
    "np.random.randint(10,100,12)"
   ]
  },
  {
   "cell_type": "markdown",
   "id": "0ef51230",
   "metadata": {},
   "source": [
    "# 4. seed()"
   ]
  },
  {
   "cell_type": "markdown",
   "id": "30c87aa6",
   "metadata": {},
   "source": [
    "- it sets the random state for the next execution\n",
    "- np.random.seed(random_state)\n",
    "- random state is an int number from 0 to 2**32-1"
   ]
  },
  {
   "cell_type": "code",
   "execution_count": 74,
   "id": "58036da0",
   "metadata": {},
   "outputs": [
    {
     "data": {
      "text/plain": [
       "array([0.22199317, 0.87073231, 0.20671916, 0.91861091, 0.48841119])"
      ]
     },
     "execution_count": 74,
     "metadata": {},
     "output_type": "execute_result"
    }
   ],
   "source": [
    "np.random.seed(5)\n",
    "np.random.random(5)"
   ]
  },
  {
   "cell_type": "code",
   "execution_count": 75,
   "id": "9776f3d3",
   "metadata": {},
   "outputs": [
    {
     "data": {
      "text/plain": [
       "array([87, 36, 49, 82, 39])"
      ]
     },
     "execution_count": 75,
     "metadata": {},
     "output_type": "execute_result"
    }
   ],
   "source": [
    "np.random.seed(55)\n",
    "np.random.randint(10,100,5)"
   ]
  },
  {
   "cell_type": "markdown",
   "id": "3dcc48a9",
   "metadata": {},
   "source": [
    "# normal()"
   ]
  },
  {
   "cell_type": "markdown",
   "id": "f5459c73",
   "metadata": {},
   "source": [
    "- It generates the random values according to the given mean and statndard deviation values and the values are normally distributed.\n",
    "- np.random.normal(mean,standard_deviation,number of values)"
   ]
  },
  {
   "cell_type": "code",
   "execution_count": 93,
   "id": "45c1221e",
   "metadata": {},
   "outputs": [
    {
     "data": {
      "text/plain": [
       "array([48.96859821, 49.57483519, 49.14712905, 50.20937468, 51.89451725,\n",
       "       48.08383917, 49.69080149, 51.31868432, 51.70212077, 51.17107227,\n",
       "       46.39743711, 49.63896923, 48.68917856, 50.28250884, 50.25669669,\n",
       "       47.4781383 , 47.14772481, 50.86344157, 51.66682789, 51.54561528,\n",
       "       52.23436224, 46.55514265, 47.01936721, 52.05954648, 49.86662327,\n",
       "       51.60715719, 49.47277798, 50.59775161, 48.01560682, 48.03390104,\n",
       "       49.36028072, 55.43387766, 49.61773396, 50.76702035, 52.91000808,\n",
       "       55.15333262, 51.26904384, 49.97840484, 47.2519983 , 53.61622351,\n",
       "       46.95678559, 49.28144193, 47.94634354, 47.94324688, 50.07021422,\n",
       "       53.57905889, 50.02567509, 48.84341692, 52.72826792, 48.65336247])"
      ]
     },
     "execution_count": 93,
     "metadata": {},
     "output_type": "execute_result"
    }
   ],
   "source": [
    "# Create an array of 50 nprmally distributed values where the mean is 50 and the standard deviation is 2\n",
    "\n",
    "arr=np.random.normal(50,2,50)\n",
    "arr"
   ]
  },
  {
   "cell_type": "code",
   "execution_count": 94,
   "id": "39460451",
   "metadata": {},
   "outputs": [
    {
     "data": {
      "text/plain": [
       "<Axes: ylabel='Density'>"
      ]
     },
     "execution_count": 94,
     "metadata": {},
     "output_type": "execute_result"
    },
    {
     "data": {
      "image/png": "[encoded data removed]",
      "text/plain": [
       "<Figure size 640x480 with 1 Axes>"
      ]
     },
     "metadata": {},
     "output_type": "display_data"
    }
   ],
   "source": [
    "# checking whether it is normally distributed or not.\n",
    "import seaborn as sns\n",
    "\n",
    "sns.kdeplot(arr)"
   ]
  },
  {
   "cell_type": "markdown",
   "id": "543ab25e",
   "metadata": {},
   "source": [
    "# uniform()"
   ]
  },
  {
   "cell_type": "markdown",
   "id": "39a21aab",
   "metadata": {},
   "source": [
    "- It generates the uniformally distributed random values between a range.\n",
    "- np.random.uniform(start,stop,number of values)"
   ]
  },
  {
   "cell_type": "code",
   "execution_count": 95,
   "id": "0881b973",
   "metadata": {},
   "outputs": [
    {
     "data": {
      "text/plain": [
       "array([74.8161198 , 16.88189668, 87.4330346 , 15.42163151, 69.31874146,\n",
       "       16.1227527 , 72.95656069, 43.6534095 , 28.4026567 , 81.05014815,\n",
       "       98.34860666, 64.90405544, 53.33739645, 55.25634169, 15.06188606])"
      ]
     },
     "execution_count": 95,
     "metadata": {},
     "output_type": "execute_result"
    }
   ],
   "source": [
    "# Between 10 and 100 create 15 uniformally distributed values\n",
    "\n",
    "arr=np.random.uniform(10,100,15)\n",
    "arr"
   ]
  },
  {
   "cell_type": "code",
   "execution_count": 96,
   "id": "dafb8f3d",
   "metadata": {},
   "outputs": [
    {
     "data": {
      "text/plain": [
       "<Axes: ylabel='Density'>"
      ]
     },
     "execution_count": 96,
     "metadata": {},
     "output_type": "execute_result"
    },
    {
     "data": {
      "image/png": "[encoded data removed]",
      "text/plain": [
       "<Figure size 640x480 with 1 Axes>"
      ]
     },
     "metadata": {},
     "output_type": "display_data"
    }
   ],
   "source": [
    "sns.kdeplot(arr)"
   ]
  },
  {
   "cell_type": "markdown",
   "id": "ffebb1c8",
   "metadata": {},
   "source": [
    "# Numpy Ufuncs"
   ]
  },
  {
   "cell_type": "markdown",
   "id": "d8bac384",
   "metadata": {},
   "source": [
    "- NumPy Universal functions (ufuncs in short) are simple mathematical functions that operate on ndarray (N-dimensional array) in an element-wise fashion.\n",
    "- It supports array broadcasting, type casting, and several other standard features.\n",
    "- NumPy provides various universal functions like standard trigonometric functions, functions for arithmetic operations, handling complex numbers, statistical functions, etc."
   ]
  },
  {
   "cell_type": "markdown",
   "id": "118be3a3",
   "metadata": {},
   "source": [
    "## Characteristics of Numpy ufuncs"
   ]
  },
  {
   "cell_type": "markdown",
   "id": "8d59af01",
   "metadata": {},
   "source": [
    "- These functions operate on ndarray (N-dimensional array) i.e. NumPy’s array class.\n",
    "- It performs fast element-wise array operations.\n",
    "- It supports various features like array broadcasting, type casting, etc.\n",
    "- Numpy universal functions are objects that belong to numpy.ufunc class.\n",
    "- Python functions can also be created as a universal function using the frompyfunc library function.\n",
    "- Some ufuncs are called automatically when the corresponding arithmetic operator is used on arrays. For example, when the addition of two arrays is performed element-wise using the ‘+’ operator then np.add() is called internally."
   ]
  },
  {
   "cell_type": "markdown",
   "id": "9f5c502b",
   "metadata": {},
   "source": [
    "## Why ufuncs?"
   ]
  },
  {
   "cell_type": "markdown",
   "id": "0ac2dd39",
   "metadata": {},
   "source": [
    "- 1. Vectorized Operations\n",
    " - ufuncs are applied element-wise to all the elements in the ndarray. \n",
    " - ufuncs are more efficient than loops as they are applied simultaneously to all elements. Vectorization is very useful on large data sets.\n",
    "- 2. Type Casting\n",
    " - Type casting means converting the data type of a variable to perform the necessary operation.\n",
    " - ufuncs automatically handle type casting and ensure compatible datatypes for calculations.\n",
    " - This allows code to be concise and reduces the chances of error.\n",
    "- 3. Broadcasting\n",
    " - Broadcasting means to perform arithmetic operations on arrays of different size.\n",
    " - ufuncs automatically handle broadcasting and avoids the need for manual array shape manipulation."
   ]
  },
  {
   "cell_type": "markdown",
   "id": "f9ec18d0",
   "metadata": {},
   "source": [
    "## Trigonometric ufuncs"
   ]
  },
  {
   "cell_type": "code",
   "execution_count": 89,
   "id": "d8ebdbdb",
   "metadata": {},
   "outputs": [
    {
     "name": "stdout",
     "output_type": "stream",
     "text": [
      "\n",
      "Sine of angles in the array:\n",
      "[0.00000000e+00 5.00000000e-01 7.07106781e-01 8.66025404e-01\n",
      " 1.00000000e+00 1.22464680e-16]\n",
      "\n",
      "Inverse Sine of sine values:\n",
      "[0.0000000e+00 3.0000000e+01 4.5000000e+01 6.0000000e+01 9.0000000e+01\n",
      " 7.0167093e-15]\n",
      "\n",
      "Sine hyperbolic of angles in the array:\n",
      "[ 0.          0.54785347  0.86867096  1.24936705  2.3012989  11.54873936]\n",
      "\n",
      "Inverse Sine hyperbolic:\n",
      "[ 0.          0.52085606  0.76347126  0.94878485  0.74483916 -0.85086591]\n",
      "\n",
      "hypotenuse of right triangle is:\n",
      "5.0\n",
      "\n"
     ]
    }
   ],
   "source": [
    "# Python code to demonstrate trigonometric function \n",
    "import numpy as np \n",
    "  \n",
    "# create an array of angles \n",
    "angles = np.array([0, 30, 45, 60, 90, 180])  \n",
    "  \n",
    "# conversion of degree into radians \n",
    "# using deg2rad function \n",
    "radians = np.deg2rad(angles) \n",
    "print()\n",
    "  \n",
    "# sine of angles \n",
    "print('Sine of angles in the array:') \n",
    "sine_value = np.sin(radians) \n",
    "print(np.sin(radians)) \n",
    "print()\n",
    "  \n",
    "# inverse sine of sine values \n",
    "print('Inverse Sine of sine values:') \n",
    "print(np.rad2deg(np.arcsin(sine_value))) \n",
    "print()\n",
    "  \n",
    "# hyperbolic sine of angles \n",
    "print('Sine hyperbolic of angles in the array:') \n",
    "sineh_value = np.sinh(radians) \n",
    "print(np.sinh(radians)) \n",
    "print()\n",
    "  \n",
    "# inverse sine hyperbolic  \n",
    "print('Inverse Sine hyperbolic:') \n",
    "print(np.sin(sineh_value))  \n",
    "print()\n",
    "  \n",
    "# hypot function demonstration \n",
    "base = 4\n",
    "height = 3\n",
    "print('hypotenuse of right triangle is:') \n",
    "print(np.hypot(base, height))\n",
    "print()\n"
   ]
  },
  {
   "cell_type": "markdown",
   "id": "46f4152b",
   "metadata": {},
   "source": [
    "## Statistical ufuncs"
   ]
  },
  {
   "cell_type": "code",
   "execution_count": 88,
   "id": "f25107e3",
   "metadata": {},
   "outputs": [
    {
     "name": "stdout",
     "output_type": "stream",
     "text": [
      "Minimum and maximum weight of the students: \n",
      "45.0 73.25\n",
      "\n",
      "Range of the weight of the students: \n",
      "28.25\n",
      "\n",
      "Weight below which 70 % student fall: \n",
      "55.317\n",
      "\n",
      "Mean weight of the students: \n",
      "54.3225\n",
      "\n",
      "Median weight of the students: \n",
      "51.6\n",
      "\n",
      "Standard deviation of weight of the students: \n",
      "8.052773978574091\n",
      "\n",
      "Variance of weight of the students: \n",
      "64.84716875\n",
      "\n",
      "Average weight of the students: \n",
      "54.3225\n",
      "\n"
     ]
    }
   ],
   "source": [
    "# Python code demonstrate statistical function \n",
    "import numpy as np \n",
    "  \n",
    "# construct a weight array \n",
    "weight = np.array([50.7, 52.5, 50, 58, 55.63, 73.25, 49.5, 45]) \n",
    "  \n",
    "# minimum and maximum  \n",
    "print('Minimum and maximum weight of the students: ') \n",
    "print(np.amin(weight), np.amax(weight)) \n",
    "print()\n",
    "\n",
    "# range of weight i.e. max weight-min weight \n",
    "print('Range of the weight of the students: ') \n",
    "print(np.ptp(weight)) \n",
    "print()\n",
    "  \n",
    "# percentile \n",
    "print('Weight below which 70 % student fall: ') \n",
    "print(np.percentile(weight, 70)) \n",
    "print()\n",
    "   \n",
    "# mean  \n",
    "print('Mean weight of the students: ') \n",
    "print(np.mean(weight)) \n",
    "print()\n",
    "  \n",
    "# median  \n",
    "print('Median weight of the students: ') \n",
    "print(np.median(weight)) \n",
    "print()\n",
    "  \n",
    "# standard deviation  \n",
    "print('Standard deviation of weight of the students: ') \n",
    "print(np.std(weight)) \n",
    "print()\n",
    "  \n",
    "# variance  \n",
    "print('Variance of weight of the students: ') \n",
    "print(np.var(weight)) \n",
    "print()\n",
    "  \n",
    "# average  \n",
    "print('Average weight of the students: ') \n",
    "print(np.average(weight)) \n",
    "print()\n"
   ]
  },
  {
   "cell_type": "markdown",
   "id": "c9c10b81",
   "metadata": {},
   "source": [
    "## Bit-twiddling ufuncs"
   ]
  },
  {
   "cell_type": "code",
   "execution_count": 90,
   "id": "f277ad65",
   "metadata": {},
   "outputs": [
    {
     "name": "stdout",
     "output_type": "stream",
     "text": [
      "bitwise_and of two arrays: \n",
      "[ 0  2  4  6  8 16 32]\n",
      "\n",
      "bitwise_or of two arrays: \n",
      "[ 1  3  5  7  9 17 33]\n",
      "\n",
      "bitwise_xor of two arrays: \n",
      "[1 1 1 1 1 1 1]\n",
      "\n",
      "inversion of even no. array: \n",
      "[ -1  -3  -5  -7  -9 -17 -33]\n",
      "\n",
      "left_shift of even no. array: \n",
      "[ 0  4  8 12 16 32 64]\n",
      "\n",
      "right_shift of even no. array: \n",
      "[ 0  1  2  3  4  8 16]\n",
      "\n"
     ]
    }
   ],
   "source": [
    "# Python code to demonstrate bitwise-function \n",
    "import numpy as np \n",
    "  \n",
    "# construct an array of even and odd numbers \n",
    "even = np.array([0, 2, 4, 6, 8, 16, 32]) \n",
    "odd = np.array([1, 3, 5, 7, 9, 17, 33]) \n",
    "  \n",
    "# bitwise_and \n",
    "print('bitwise_and of two arrays: ') \n",
    "print(np.bitwise_and(even, odd)) \n",
    "print()\n",
    "\n",
    "# bitwise_or \n",
    "print('bitwise_or of two arrays: ') \n",
    "print(np.bitwise_or(even, odd)) \n",
    "print()\n",
    "\n",
    "# bitwise_xor \n",
    "print('bitwise_xor of two arrays: ') \n",
    "print(np.bitwise_xor(even, odd)) \n",
    "print()\n",
    "   \n",
    "# invert or not \n",
    "print('inversion of even no. array: ') \n",
    "print(np.invert(even)) \n",
    "print()\n",
    "  \n",
    "# left_shift  \n",
    "print('left_shift of even no. array: ') \n",
    "print(np.left_shift(even, 1)) \n",
    "print()\n",
    "  \n",
    "# right_shift  \n",
    "print('right_shift of even no. array: ') \n",
    "print(np.right_shift(even, 1))\n",
    "print()\n"
   ]
  },
  {
   "cell_type": "markdown",
   "id": "7dba3cd0",
   "metadata": {},
   "source": [
    "# Functions in Numpy arrays"
   ]
  },
  {
   "cell_type": "markdown",
   "id": "2ec48316",
   "metadata": {},
   "source": [
    "## 1. sum()"
   ]
  },
  {
   "cell_type": "code",
   "execution_count": 97,
   "id": "d726479e",
   "metadata": {},
   "outputs": [
    {
     "data": {
      "text/plain": [
       "array([61, 24, 81, 70, 30, 92, 96, 84, 84, 97, 33, 12])"
      ]
     },
     "execution_count": 97,
     "metadata": {},
     "output_type": "execute_result"
    }
   ],
   "source": [
    "np.random.seed(42)\n",
    "arr=np.random.randint(10,100,12)\n",
    "arr"
   ]
  },
  {
   "cell_type": "code",
   "execution_count": 98,
   "id": "1ac1e167",
   "metadata": {},
   "outputs": [
    {
     "data": {
      "text/plain": [
       "764"
      ]
     },
     "execution_count": 98,
     "metadata": {},
     "output_type": "execute_result"
    }
   ],
   "source": [
    "np.sum(arr)"
   ]
  },
  {
   "cell_type": "code",
   "execution_count": 99,
   "id": "560886ce",
   "metadata": {},
   "outputs": [],
   "source": [
    "# axis=0- Row wise operation (It reads the array top to bottom)\n",
    "# axis=1- Column wise operation (It reads the array left to right)"
   ]
  },
  {
   "cell_type": "code",
   "execution_count": 101,
   "id": "6c8b8718",
   "metadata": {},
   "outputs": [
    {
     "data": {
      "text/plain": [
       "array([[61, 24, 81, 70],\n",
       "       [30, 92, 96, 84],\n",
       "       [84, 97, 33, 12]])"
      ]
     },
     "execution_count": 101,
     "metadata": {},
     "output_type": "execute_result"
    }
   ],
   "source": [
    "np.random.seed(42)\n",
    "arr=np.random.randint(10,100,12).reshape(3,4)\n",
    "arr"
   ]
  },
  {
   "cell_type": "code",
   "execution_count": 102,
   "id": "311e7749",
   "metadata": {},
   "outputs": [
    {
     "data": {
      "text/plain": [
       "array([236, 302, 226])"
      ]
     },
     "execution_count": 102,
     "metadata": {},
     "output_type": "execute_result"
    }
   ],
   "source": [
    "np.sum(arr, axis=1)"
   ]
  },
  {
   "cell_type": "code",
   "execution_count": 103,
   "id": "8d52edb5",
   "metadata": {},
   "outputs": [
    {
     "data": {
      "text/plain": [
       "array([175, 213, 210, 166])"
      ]
     },
     "execution_count": 103,
     "metadata": {},
     "output_type": "execute_result"
    }
   ],
   "source": [
    "np.sum(arr, axis=0)"
   ]
  },
  {
   "cell_type": "markdown",
   "id": "d167b666",
   "metadata": {},
   "source": [
    "## 2. max()"
   ]
  },
  {
   "cell_type": "markdown",
   "id": "530723c2",
   "metadata": {},
   "source": [
    "- np.max(arr,axis=0,1)\n",
    "- arr.max(axis=0,1)"
   ]
  },
  {
   "cell_type": "code",
   "execution_count": 104,
   "id": "c5e336f6",
   "metadata": {},
   "outputs": [
    {
     "data": {
      "text/plain": [
       "array([[61, 24, 81, 70],\n",
       "       [30, 92, 96, 84],\n",
       "       [84, 97, 33, 12]])"
      ]
     },
     "execution_count": 104,
     "metadata": {},
     "output_type": "execute_result"
    }
   ],
   "source": [
    "arr"
   ]
  },
  {
   "cell_type": "code",
   "execution_count": 105,
   "id": "c728dd9b",
   "metadata": {},
   "outputs": [
    {
     "data": {
      "text/plain": [
       "array([84, 97, 96, 84])"
      ]
     },
     "execution_count": 105,
     "metadata": {},
     "output_type": "execute_result"
    }
   ],
   "source": [
    "np.max(arr, axis=0)"
   ]
  },
  {
   "cell_type": "code",
   "execution_count": 106,
   "id": "bb39eb61",
   "metadata": {},
   "outputs": [
    {
     "data": {
      "text/plain": [
       "array([81, 96, 97])"
      ]
     },
     "execution_count": 106,
     "metadata": {},
     "output_type": "execute_result"
    }
   ],
   "source": [
    "np.max(arr, axis=1)"
   ]
  },
  {
   "cell_type": "markdown",
   "id": "7091d6ee",
   "metadata": {},
   "source": [
    "## 3. min()"
   ]
  },
  {
   "cell_type": "markdown",
   "id": "cfff8125",
   "metadata": {},
   "source": [
    "- np.min(arr,axis=0,1)\n",
    "- arr.min(axis=0,1)"
   ]
  },
  {
   "cell_type": "code",
   "execution_count": 107,
   "id": "18883f60",
   "metadata": {},
   "outputs": [
    {
     "data": {
      "text/plain": [
       "array([[61, 24, 81, 70],\n",
       "       [30, 92, 96, 84],\n",
       "       [84, 97, 33, 12]])"
      ]
     },
     "execution_count": 107,
     "metadata": {},
     "output_type": "execute_result"
    }
   ],
   "source": [
    "arr"
   ]
  },
  {
   "cell_type": "code",
   "execution_count": 108,
   "id": "2dda0c30",
   "metadata": {},
   "outputs": [
    {
     "data": {
      "text/plain": [
       "array([24, 30, 12])"
      ]
     },
     "execution_count": 108,
     "metadata": {},
     "output_type": "execute_result"
    }
   ],
   "source": [
    "np.min(arr,axis=1)"
   ]
  },
  {
   "cell_type": "code",
   "execution_count": 109,
   "id": "277041ca",
   "metadata": {},
   "outputs": [
    {
     "data": {
      "text/plain": [
       "array([30, 24, 33, 12])"
      ]
     },
     "execution_count": 109,
     "metadata": {},
     "output_type": "execute_result"
    }
   ],
   "source": [
    "np.min(arr,axis=0)"
   ]
  },
  {
   "cell_type": "markdown",
   "id": "fc3c53e3",
   "metadata": {},
   "source": [
    "## 4. mean()"
   ]
  },
  {
   "cell_type": "markdown",
   "id": "b669a500",
   "metadata": {},
   "source": [
    "- np.mean(arr,axis)\n",
    "- arr.mean(axis)"
   ]
  },
  {
   "cell_type": "code",
   "execution_count": 110,
   "id": "5b5adc46",
   "metadata": {},
   "outputs": [
    {
     "data": {
      "text/plain": [
       "array([[61, 24, 81, 70],\n",
       "       [30, 92, 96, 84],\n",
       "       [84, 97, 33, 12]])"
      ]
     },
     "execution_count": 110,
     "metadata": {},
     "output_type": "execute_result"
    }
   ],
   "source": [
    "arr"
   ]
  },
  {
   "cell_type": "code",
   "execution_count": 113,
   "id": "258f4647",
   "metadata": {},
   "outputs": [
    {
     "data": {
      "text/plain": [
       "array([58.33333333, 71.        , 70.        , 55.33333333])"
      ]
     },
     "execution_count": 113,
     "metadata": {},
     "output_type": "execute_result"
    }
   ],
   "source": [
    "np.mean(arr,axis=0)"
   ]
  },
  {
   "cell_type": "code",
   "execution_count": 114,
   "id": "fed8a9d0",
   "metadata": {},
   "outputs": [
    {
     "data": {
      "text/plain": [
       "array([59. , 75.5, 56.5])"
      ]
     },
     "execution_count": 114,
     "metadata": {},
     "output_type": "execute_result"
    }
   ],
   "source": [
    "np.mean(arr,axis=1)"
   ]
  },
  {
   "cell_type": "markdown",
   "id": "33b926ce",
   "metadata": {},
   "source": [
    "## 5. median()"
   ]
  },
  {
   "cell_type": "markdown",
   "id": "e4570987",
   "metadata": {},
   "source": [
    "- np.median(arr,axis)"
   ]
  },
  {
   "cell_type": "code",
   "execution_count": 115,
   "id": "f75aa0f0",
   "metadata": {},
   "outputs": [
    {
     "data": {
      "text/plain": [
       "array([[61, 24, 81, 70],\n",
       "       [30, 92, 96, 84],\n",
       "       [84, 97, 33, 12]])"
      ]
     },
     "execution_count": 115,
     "metadata": {},
     "output_type": "execute_result"
    }
   ],
   "source": [
    "arr"
   ]
  },
  {
   "cell_type": "code",
   "execution_count": 116,
   "id": "c6cd0f26",
   "metadata": {},
   "outputs": [
    {
     "data": {
      "text/plain": [
       "array([61., 92., 81., 70.])"
      ]
     },
     "execution_count": 116,
     "metadata": {},
     "output_type": "execute_result"
    }
   ],
   "source": [
    "np.median(arr,axis=0)"
   ]
  },
  {
   "cell_type": "code",
   "execution_count": 117,
   "id": "fee933e4",
   "metadata": {},
   "outputs": [
    {
     "data": {
      "text/plain": [
       "array([65.5, 88. , 58.5])"
      ]
     },
     "execution_count": 117,
     "metadata": {},
     "output_type": "execute_result"
    }
   ],
   "source": [
    "np.median(arr,axis=1)"
   ]
  },
  {
   "cell_type": "markdown",
   "id": "24723e67",
   "metadata": {},
   "source": [
    "## 6. mode()"
   ]
  },
  {
   "cell_type": "markdown",
   "id": "a9f650f0",
   "metadata": {},
   "source": [
    "- It returns the mode of the array.\n",
    "- The mode is the number with the highest frequency.\n",
    "- In Numpy we don't have mode function.\n",
    "- Inside Stats module in Scipy library mode() is available."
   ]
  },
  {
   "cell_type": "code",
   "execution_count": 118,
   "id": "c63e53de",
   "metadata": {},
   "outputs": [],
   "source": [
    "from scipy import stats"
   ]
  },
  {
   "cell_type": "code",
   "execution_count": 119,
   "id": "b7459289",
   "metadata": {},
   "outputs": [
    {
     "data": {
      "text/plain": [
       "array([20, 10, 30, 50, 10, 70, 10, 90, 10, 10])"
      ]
     },
     "execution_count": 119,
     "metadata": {},
     "output_type": "execute_result"
    }
   ],
   "source": [
    "m=np.array([20,10,30,50,10,70,10,90,10,10])\n",
    "m"
   ]
  },
  {
   "cell_type": "code",
   "execution_count": 120,
   "id": "8e8109f4",
   "metadata": {},
   "outputs": [
    {
     "data": {
      "text/plain": [
       "ModeResult(mode=array([10]), count=array([5], dtype=int64))"
      ]
     },
     "execution_count": 120,
     "metadata": {},
     "output_type": "execute_result"
    }
   ],
   "source": [
    "stats.mode(m,keepdims=True)"
   ]
  },
  {
   "cell_type": "code",
   "execution_count": 121,
   "id": "0c97da6f",
   "metadata": {},
   "outputs": [
    {
     "data": {
      "text/plain": [
       "ModeResult(mode=10, count=5)"
      ]
     },
     "execution_count": 121,
     "metadata": {},
     "output_type": "execute_result"
    }
   ],
   "source": [
    "stats.mode(m,keepdims=False)"
   ]
  },
  {
   "cell_type": "markdown",
   "id": "07f0a34c",
   "metadata": {},
   "source": [
    "## 7. std()"
   ]
  },
  {
   "cell_type": "markdown",
   "id": "ea0c53df",
   "metadata": {},
   "source": [
    "- arr.std(axis)\n",
    "- np.std(arr,axis)"
   ]
  },
  {
   "cell_type": "code",
   "execution_count": 122,
   "id": "417eb0aa",
   "metadata": {},
   "outputs": [
    {
     "data": {
      "text/plain": [
       "array([[61, 24, 81, 70],\n",
       "       [30, 92, 96, 84],\n",
       "       [84, 97, 33, 12]])"
      ]
     },
     "execution_count": 122,
     "metadata": {},
     "output_type": "execute_result"
    }
   ],
   "source": [
    "arr"
   ]
  },
  {
   "cell_type": "code",
   "execution_count": 123,
   "id": "b98a9901",
   "metadata": {},
   "outputs": [
    {
     "data": {
      "text/plain": [
       "29.51082663852182"
      ]
     },
     "execution_count": 123,
     "metadata": {},
     "output_type": "execute_result"
    }
   ],
   "source": [
    "np.std(arr)"
   ]
  },
  {
   "cell_type": "code",
   "execution_count": 124,
   "id": "fec4dd42",
   "metadata": {},
   "outputs": [
    {
     "data": {
      "text/plain": [
       "array([22.12590237, 33.29664648, 26.87005769, 31.16978594])"
      ]
     },
     "execution_count": 124,
     "metadata": {},
     "output_type": "execute_result"
    }
   ],
   "source": [
    "np.std(arr, axis=0)"
   ]
  },
  {
   "cell_type": "code",
   "execution_count": 125,
   "id": "8013c1cf",
   "metadata": {},
   "outputs": [
    {
     "data": {
      "text/plain": [
       "array([21.41261311, 26.62235902, 35.10341864])"
      ]
     },
     "execution_count": 125,
     "metadata": {},
     "output_type": "execute_result"
    }
   ],
   "source": [
    "np.std(arr, axis=1)"
   ]
  },
  {
   "cell_type": "markdown",
   "id": "5307111a",
   "metadata": {},
   "source": [
    "## 8. var()"
   ]
  },
  {
   "cell_type": "markdown",
   "id": "498c7c06",
   "metadata": {},
   "source": [
    "- arr.var(axis)\n",
    "- np.var(arr,axis)"
   ]
  },
  {
   "cell_type": "code",
   "execution_count": 126,
   "id": "692a0778",
   "metadata": {},
   "outputs": [
    {
     "data": {
      "text/plain": [
       "870.888888888889"
      ]
     },
     "execution_count": 126,
     "metadata": {},
     "output_type": "execute_result"
    }
   ],
   "source": [
    "np.var(arr)"
   ]
  },
  {
   "cell_type": "code",
   "execution_count": 127,
   "id": "32b76218",
   "metadata": {},
   "outputs": [
    {
     "data": {
      "text/plain": [
       "array([ 489.55555556, 1108.66666667,  722.        ,  971.55555556])"
      ]
     },
     "execution_count": 127,
     "metadata": {},
     "output_type": "execute_result"
    }
   ],
   "source": [
    "np.var(arr, axis=0)"
   ]
  },
  {
   "cell_type": "code",
   "execution_count": 128,
   "id": "27568328",
   "metadata": {},
   "outputs": [
    {
     "data": {
      "text/plain": [
       "array([ 458.5 ,  708.75, 1232.25])"
      ]
     },
     "execution_count": 128,
     "metadata": {},
     "output_type": "execute_result"
    }
   ],
   "source": [
    "np.var(arr, axis=1)"
   ]
  },
  {
   "cell_type": "markdown",
   "id": "18cdefe1",
   "metadata": {},
   "source": [
    "## 9. Percentile()"
   ]
  },
  {
   "cell_type": "markdown",
   "id": "7550caee",
   "metadata": {},
   "source": [
    "- np.percentile(arr,percentile_value)"
   ]
  },
  {
   "cell_type": "code",
   "execution_count": 129,
   "id": "e6478fb8",
   "metadata": {},
   "outputs": [
    {
     "data": {
      "text/plain": [
       "array([[61, 24, 81, 70],\n",
       "       [30, 92, 96, 84],\n",
       "       [84, 97, 33, 12]])"
      ]
     },
     "execution_count": 129,
     "metadata": {},
     "output_type": "execute_result"
    }
   ],
   "source": [
    "arr"
   ]
  },
  {
   "cell_type": "code",
   "execution_count": 130,
   "id": "f126ef9d",
   "metadata": {},
   "outputs": [
    {
     "data": {
      "text/plain": [
       "75.5"
      ]
     },
     "execution_count": 130,
     "metadata": {},
     "output_type": "execute_result"
    }
   ],
   "source": [
    "# Get the 50th percentile value of the array\n",
    "np.percentile(arr,50)"
   ]
  },
  {
   "cell_type": "code",
   "execution_count": 131,
   "id": "cdee1f64",
   "metadata": {},
   "outputs": [
    {
     "data": {
      "text/plain": [
       "96.89"
      ]
     },
     "execution_count": 131,
     "metadata": {},
     "output_type": "execute_result"
    }
   ],
   "source": [
    "# 99th percentile value from the array\n",
    "np.percentile(arr,99)"
   ]
  },
  {
   "cell_type": "markdown",
   "id": "0f80b89b",
   "metadata": {},
   "source": [
    "## 10. sqrt()"
   ]
  },
  {
   "cell_type": "code",
   "execution_count": 132,
   "id": "932d41ad",
   "metadata": {},
   "outputs": [
    {
     "data": {
      "text/plain": [
       "array([[7.81024968, 4.89897949, 9.        , 8.36660027],\n",
       "       [5.47722558, 9.59166305, 9.79795897, 9.16515139],\n",
       "       [9.16515139, 9.8488578 , 5.74456265, 3.46410162]])"
      ]
     },
     "execution_count": 132,
     "metadata": {},
     "output_type": "execute_result"
    }
   ],
   "source": [
    "np.sqrt(arr)"
   ]
  },
  {
   "cell_type": "markdown",
   "id": "7067562f",
   "metadata": {},
   "source": [
    "## 11. round()"
   ]
  },
  {
   "cell_type": "markdown",
   "id": "ac3cbd2c",
   "metadata": {},
   "source": [
    "- np.round(arr,number of decimals we want)"
   ]
  },
  {
   "cell_type": "code",
   "execution_count": 133,
   "id": "3d4a7076",
   "metadata": {},
   "outputs": [
    {
     "data": {
      "text/plain": [
       "array([[7.81024968, 4.89897949, 9.        , 8.36660027],\n",
       "       [5.47722558, 9.59166305, 9.79795897, 9.16515139],\n",
       "       [9.16515139, 9.8488578 , 5.74456265, 3.46410162]])"
      ]
     },
     "execution_count": 133,
     "metadata": {},
     "output_type": "execute_result"
    }
   ],
   "source": [
    "d=np.array([[7.81024968, 4.89897949, 9.        , 8.36660027],\n",
    "       [5.47722558, 9.59166305, 9.79795897, 9.16515139],\n",
    "       [9.16515139, 9.8488578 , 5.74456265, 3.46410162]])\n",
    "d"
   ]
  },
  {
   "cell_type": "code",
   "execution_count": 136,
   "id": "3feca132",
   "metadata": {},
   "outputs": [
    {
     "data": {
      "text/plain": [
       "array([[ 8.,  5.,  9.,  8.],\n",
       "       [ 5., 10., 10.,  9.],\n",
       "       [ 9., 10.,  6.,  3.]])"
      ]
     },
     "execution_count": 136,
     "metadata": {},
     "output_type": "execute_result"
    }
   ],
   "source": [
    "np.round(d)"
   ]
  },
  {
   "cell_type": "code",
   "execution_count": 137,
   "id": "644494df",
   "metadata": {},
   "outputs": [
    {
     "data": {
      "text/plain": [
       "array([[7.81, 4.9 , 9.  , 8.37],\n",
       "       [5.48, 9.59, 9.8 , 9.17],\n",
       "       [9.17, 9.85, 5.74, 3.46]])"
      ]
     },
     "execution_count": 137,
     "metadata": {},
     "output_type": "execute_result"
    }
   ],
   "source": [
    "np.round(d,2)"
   ]
  },
  {
   "cell_type": "markdown",
   "id": "a1afd9f9",
   "metadata": {},
   "source": [
    "## 12. argwhere()"
   ]
  },
  {
   "cell_type": "markdown",
   "id": "9f95ebd9",
   "metadata": {},
   "source": [
    "- It returns the indexes of the elements according to the condition passed.\n",
    "- By default it returns the indexes of all non-zero elements in the array.\n",
    "- np.argwhere(arr)\n",
    "- np.argwhere(condition)"
   ]
  },
  {
   "cell_type": "code",
   "execution_count": 138,
   "id": "f2ffaa50",
   "metadata": {},
   "outputs": [
    {
     "data": {
      "text/plain": [
       "array([10, 20, 30,  0, 40, 50,  0, 60, 80,  0, 90])"
      ]
     },
     "execution_count": 138,
     "metadata": {},
     "output_type": "execute_result"
    }
   ],
   "source": [
    "arr=np.array([10,20,30,0,40,50,0,60,80,0,90])\n",
    "arr"
   ]
  },
  {
   "cell_type": "code",
   "execution_count": 139,
   "id": "6a176b60",
   "metadata": {},
   "outputs": [
    {
     "data": {
      "text/plain": [
       "array([[ 0],\n",
       "       [ 1],\n",
       "       [ 2],\n",
       "       [ 4],\n",
       "       [ 5],\n",
       "       [ 7],\n",
       "       [ 8],\n",
       "       [10]], dtype=int64)"
      ]
     },
     "execution_count": 139,
     "metadata": {},
     "output_type": "execute_result"
    }
   ],
   "source": [
    "np.argwhere(arr)"
   ]
  },
  {
   "cell_type": "code",
   "execution_count": 140,
   "id": "671fea89",
   "metadata": {},
   "outputs": [
    {
     "data": {
      "text/plain": [
       "(array([ 0,  1,  2,  3,  4,  5,  6,  7,  8,  9, 10], dtype=int64),)"
      ]
     },
     "execution_count": 140,
     "metadata": {},
     "output_type": "execute_result"
    }
   ],
   "source": [
    "np.where(arr>=0)"
   ]
  },
  {
   "cell_type": "code",
   "execution_count": 141,
   "id": "d8414fb0",
   "metadata": {},
   "outputs": [
    {
     "data": {
      "text/plain": [
       "array([[ 7],\n",
       "       [ 8],\n",
       "       [10]], dtype=int64)"
      ]
     },
     "execution_count": 141,
     "metadata": {},
     "output_type": "execute_result"
    }
   ],
   "source": [
    "np.argwhere(arr>50)"
   ]
  },
  {
   "cell_type": "markdown",
   "id": "0377f08d",
   "metadata": {},
   "source": [
    "## 13. argmax()"
   ]
  },
  {
   "cell_type": "markdown",
   "id": "b81dc689",
   "metadata": {},
   "source": [
    "- It returns the index of the maximum element.\n",
    "- If two or more numbers are maximum then it returns the index of the first maximum number.\n",
    "- It considers a 2-D or 3-D array as a 1-D array."
   ]
  },
  {
   "cell_type": "code",
   "execution_count": 143,
   "id": "a0cc6da3",
   "metadata": {},
   "outputs": [
    {
     "data": {
      "text/plain": [
       "array([10, 20, 30,  0, 40, 50,  0, 60, 80,  0, 90])"
      ]
     },
     "execution_count": 143,
     "metadata": {},
     "output_type": "execute_result"
    }
   ],
   "source": [
    "arr"
   ]
  },
  {
   "cell_type": "code",
   "execution_count": 144,
   "id": "3f3363e5",
   "metadata": {},
   "outputs": [
    {
     "data": {
      "text/plain": [
       "10"
      ]
     },
     "execution_count": 144,
     "metadata": {},
     "output_type": "execute_result"
    }
   ],
   "source": [
    "np.argmax(arr)"
   ]
  },
  {
   "cell_type": "code",
   "execution_count": 145,
   "id": "aa3f08cb",
   "metadata": {},
   "outputs": [
    {
     "data": {
      "text/plain": [
       "array([[30, 45, 55, 69],\n",
       "       [13, 94, 13, 33],\n",
       "       [65, 32, 99, 77]])"
      ]
     },
     "execution_count": 145,
     "metadata": {},
     "output_type": "execute_result"
    }
   ],
   "source": [
    "np.random.seed(44)\n",
    "arr=np.random.randint(10,100,12).reshape(3,4)\n",
    "arr"
   ]
  },
  {
   "cell_type": "code",
   "execution_count": 146,
   "id": "430fdf72",
   "metadata": {},
   "outputs": [
    {
     "data": {
      "text/plain": [
       "10"
      ]
     },
     "execution_count": 146,
     "metadata": {},
     "output_type": "execute_result"
    }
   ],
   "source": [
    "arr.argmax()"
   ]
  },
  {
   "cell_type": "markdown",
   "id": "6ca1f2db",
   "metadata": {},
   "source": [
    "## 14. argmin()"
   ]
  },
  {
   "cell_type": "markdown",
   "id": "f1ca02a3",
   "metadata": {},
   "source": [
    "- It returns the index of the minimum element.\n",
    "- If two or more numbers are minimum then it returns the index of the first minimum number.\n",
    "- It considers a 2-D or 3-D array as a 1-D array."
   ]
  },
  {
   "cell_type": "code",
   "execution_count": 147,
   "id": "1b0bec83",
   "metadata": {},
   "outputs": [
    {
     "data": {
      "text/plain": [
       "4"
      ]
     },
     "execution_count": 147,
     "metadata": {},
     "output_type": "execute_result"
    }
   ],
   "source": [
    "np.argmin(arr)"
   ]
  },
  {
   "cell_type": "markdown",
   "id": "95242894",
   "metadata": {},
   "source": [
    "## 15. where()"
   ]
  },
  {
   "cell_type": "markdown",
   "id": "14348110",
   "metadata": {},
   "source": [
    "## Case-1"
   ]
  },
  {
   "cell_type": "markdown",
   "id": "9c32a213",
   "metadata": {},
   "source": [
    "- np.where(condition)\n",
    "- In this case it returns the indexes of all the elements where the condition is satisfied."
   ]
  },
  {
   "cell_type": "code",
   "execution_count": 148,
   "id": "4748c176",
   "metadata": {},
   "outputs": [
    {
     "data": {
      "text/plain": [
       "array([[30, 45, 55, 69],\n",
       "       [13, 94, 13, 33],\n",
       "       [65, 32, 99, 77]])"
      ]
     },
     "execution_count": 148,
     "metadata": {},
     "output_type": "execute_result"
    }
   ],
   "source": [
    "arr"
   ]
  },
  {
   "cell_type": "code",
   "execution_count": 149,
   "id": "6c3ac4a5",
   "metadata": {},
   "outputs": [
    {
     "data": {
      "text/plain": [
       "(array([0, 0, 0, 1, 2, 2, 2], dtype=int64),\n",
       " array([1, 2, 3, 1, 0, 2, 3], dtype=int64))"
      ]
     },
     "execution_count": 149,
     "metadata": {},
     "output_type": "execute_result"
    }
   ],
   "source": [
    "np.where(arr>40)"
   ]
  },
  {
   "cell_type": "code",
   "execution_count": 150,
   "id": "13a0f346",
   "metadata": {},
   "outputs": [
    {
     "data": {
      "text/plain": [
       "array([45, 55, 69, 94, 65, 99, 77])"
      ]
     },
     "execution_count": 150,
     "metadata": {},
     "output_type": "execute_result"
    }
   ],
   "source": [
    "arr[np.where(arr>40)]"
   ]
  },
  {
   "cell_type": "markdown",
   "id": "519550c4",
   "metadata": {},
   "source": [
    "## Case-2"
   ]
  },
  {
   "cell_type": "markdown",
   "id": "b3b8a2ea",
   "metadata": {},
   "source": [
    "- np.where(condition,x,y)\n",
    "- In this case if the condition is True x will be result else y will be the result."
   ]
  },
  {
   "cell_type": "code",
   "execution_count": 151,
   "id": "1cdb16a2",
   "metadata": {},
   "outputs": [
    {
     "data": {
      "text/plain": [
       "array([[30, 45, 55, 69],\n",
       "       [13, 94, 13, 33],\n",
       "       [65, 32, 99, 77]])"
      ]
     },
     "execution_count": 151,
     "metadata": {},
     "output_type": "execute_result"
    }
   ],
   "source": [
    "arr"
   ]
  },
  {
   "cell_type": "code",
   "execution_count": 152,
   "id": "6e93320d",
   "metadata": {},
   "outputs": [
    {
     "data": {
      "text/plain": [
       "array([[0, 1, 1, 1],\n",
       "       [0, 1, 0, 0],\n",
       "       [1, 0, 1, 1]])"
      ]
     },
     "execution_count": 152,
     "metadata": {},
     "output_type": "execute_result"
    }
   ],
   "source": [
    "# The numbers>40 should be converted to 1 and <40 should be converted to 0\n",
    "\n",
    "np.where(arr>40,1,0)"
   ]
  },
  {
   "cell_type": "markdown",
   "id": "6a3debef",
   "metadata": {},
   "source": [
    "## Case-3"
   ]
  },
  {
   "cell_type": "markdown",
   "id": "15d1b3ff",
   "metadata": {},
   "source": [
    "- npwhere(condition,x,arr)"
   ]
  },
  {
   "cell_type": "code",
   "execution_count": 153,
   "id": "7dda78fe",
   "metadata": {},
   "outputs": [
    {
     "data": {
      "text/plain": [
       "array([[ 0, 45, 55, 69],\n",
       "       [ 0, 94,  0,  0],\n",
       "       [65,  0, 99, 77]])"
      ]
     },
     "execution_count": 153,
     "metadata": {},
     "output_type": "execute_result"
    }
   ],
   "source": [
    "# The numbers<40 should be converted to 0 otherwise no change in values\n",
    "\n",
    "np.where(arr<40,0,arr)"
   ]
  },
  {
   "cell_type": "markdown",
   "id": "d22ec0f1",
   "metadata": {},
   "source": [
    "## 16. clip()"
   ]
  },
  {
   "cell_type": "markdown",
   "id": "3d0e0854",
   "metadata": {},
   "source": [
    "- It is used to cap the values of an array within a range.\n",
    "- np.clip(arr,lower_limit,upper_limit)"
   ]
  },
  {
   "cell_type": "code",
   "execution_count": 154,
   "id": "d61c9df7",
   "metadata": {},
   "outputs": [
    {
     "data": {
      "text/plain": [
       "array([[85, 40, 13, 42],\n",
       "       [71, 95, 45, 78],\n",
       "       [25, 75, 24, 63]])"
      ]
     },
     "execution_count": 154,
     "metadata": {},
     "output_type": "execute_result"
    }
   ],
   "source": [
    "np.random.seed(45)\n",
    "arr=np.random.randint(10,100,12).reshape(3,4)\n",
    "arr"
   ]
  },
  {
   "cell_type": "code",
   "execution_count": 155,
   "id": "d0338af3",
   "metadata": {},
   "outputs": [
    {
     "data": {
      "text/plain": [
       "array([[70, 40, 30, 42],\n",
       "       [70, 70, 45, 70],\n",
       "       [30, 70, 30, 63]])"
      ]
     },
     "execution_count": 155,
     "metadata": {},
     "output_type": "execute_result"
    }
   ],
   "source": [
    "np.clip(arr,30,70)"
   ]
  },
  {
   "cell_type": "markdown",
   "id": "195fd5d3",
   "metadata": {},
   "source": [
    "## 17. diagonal()"
   ]
  },
  {
   "cell_type": "code",
   "execution_count": 156,
   "id": "5e755740",
   "metadata": {},
   "outputs": [
    {
     "data": {
      "text/plain": [
       "array([[85, 40, 13, 42, 71],\n",
       "       [95, 45, 78, 25, 75],\n",
       "       [24, 63, 67, 82, 97],\n",
       "       [56, 18, 63, 22, 44],\n",
       "       [34, 22, 27, 78, 40]])"
      ]
     },
     "execution_count": 156,
     "metadata": {},
     "output_type": "execute_result"
    }
   ],
   "source": [
    "np.random.seed(45)\n",
    "arr=np.random.randint(10,100,25).reshape(5,5)\n",
    "arr"
   ]
  },
  {
   "cell_type": "code",
   "execution_count": 157,
   "id": "e4522988",
   "metadata": {},
   "outputs": [
    {
     "data": {
      "text/plain": [
       "array([85, 45, 67, 22, 40])"
      ]
     },
     "execution_count": 157,
     "metadata": {},
     "output_type": "execute_result"
    }
   ],
   "source": [
    "np.diagonal(arr)"
   ]
  },
  {
   "cell_type": "code",
   "execution_count": 158,
   "id": "96e5ec43",
   "metadata": {},
   "outputs": [
    {
     "data": {
      "text/plain": [
       "array([85, 45, 67, 22, 40])"
      ]
     },
     "execution_count": 158,
     "metadata": {},
     "output_type": "execute_result"
    }
   ],
   "source": [
    "np.diagonal(arr,offset=0)"
   ]
  },
  {
   "cell_type": "code",
   "execution_count": 159,
   "id": "2b1253ec",
   "metadata": {},
   "outputs": [
    {
     "data": {
      "text/plain": [
       "array([40, 78, 82, 44])"
      ]
     },
     "execution_count": 159,
     "metadata": {},
     "output_type": "execute_result"
    }
   ],
   "source": [
    "np.diagonal(arr,offset=1)"
   ]
  },
  {
   "cell_type": "code",
   "execution_count": 160,
   "id": "c2359b26",
   "metadata": {},
   "outputs": [
    {
     "data": {
      "text/plain": [
       "array([13, 25, 97])"
      ]
     },
     "execution_count": 160,
     "metadata": {},
     "output_type": "execute_result"
    }
   ],
   "source": [
    "np.diagonal(arr,offset=2)"
   ]
  },
  {
   "cell_type": "code",
   "execution_count": 161,
   "id": "9b8774cb",
   "metadata": {},
   "outputs": [
    {
     "data": {
      "text/plain": [
       "array([42, 75])"
      ]
     },
     "execution_count": 161,
     "metadata": {},
     "output_type": "execute_result"
    }
   ],
   "source": [
    "np.diagonal(arr,offset=3)"
   ]
  },
  {
   "cell_type": "code",
   "execution_count": 162,
   "id": "6fc73b95",
   "metadata": {},
   "outputs": [
    {
     "data": {
      "text/plain": [
       "array([71])"
      ]
     },
     "execution_count": 162,
     "metadata": {},
     "output_type": "execute_result"
    }
   ],
   "source": [
    "np.diagonal(arr,offset=4)"
   ]
  },
  {
   "cell_type": "code",
   "execution_count": 163,
   "id": "b80ea3fc",
   "metadata": {},
   "outputs": [
    {
     "data": {
      "text/plain": [
       "array([], dtype=int32)"
      ]
     },
     "execution_count": 163,
     "metadata": {},
     "output_type": "execute_result"
    }
   ],
   "source": [
    "np.diagonal(arr,offset=5)"
   ]
  },
  {
   "cell_type": "code",
   "execution_count": 164,
   "id": "f788bd9c",
   "metadata": {},
   "outputs": [
    {
     "data": {
      "text/plain": [
       "array([95, 63, 63, 78])"
      ]
     },
     "execution_count": 164,
     "metadata": {},
     "output_type": "execute_result"
    }
   ],
   "source": [
    "np.diagonal(arr,offset=-1)"
   ]
  },
  {
   "cell_type": "code",
   "execution_count": 165,
   "id": "63d4c8e5",
   "metadata": {},
   "outputs": [
    {
     "data": {
      "text/plain": [
       "array([24, 18, 27])"
      ]
     },
     "execution_count": 165,
     "metadata": {},
     "output_type": "execute_result"
    }
   ],
   "source": [
    "np.diagonal(arr,offset=-2)"
   ]
  },
  {
   "cell_type": "code",
   "execution_count": 166,
   "id": "5a0f3a8a",
   "metadata": {},
   "outputs": [
    {
     "data": {
      "text/plain": [
       "array([56, 22])"
      ]
     },
     "execution_count": 166,
     "metadata": {},
     "output_type": "execute_result"
    }
   ],
   "source": [
    "np.diagonal(arr,offset=-3)"
   ]
  },
  {
   "cell_type": "code",
   "execution_count": 167,
   "id": "d3e056e6",
   "metadata": {},
   "outputs": [
    {
     "data": {
      "text/plain": [
       "array([34])"
      ]
     },
     "execution_count": 167,
     "metadata": {},
     "output_type": "execute_result"
    }
   ],
   "source": [
    "np.diagonal(arr,offset=-4)"
   ]
  },
  {
   "cell_type": "code",
   "execution_count": 168,
   "id": "895fc45f",
   "metadata": {},
   "outputs": [
    {
     "data": {
      "text/plain": [
       "array([], dtype=int32)"
      ]
     },
     "execution_count": 168,
     "metadata": {},
     "output_type": "execute_result"
    }
   ],
   "source": [
    "np.diagonal(arr,offset=-5)"
   ]
  },
  {
   "cell_type": "markdown",
   "id": "4e781840",
   "metadata": {},
   "source": [
    "## 18. diag()"
   ]
  },
  {
   "cell_type": "markdown",
   "id": "dd45c059",
   "metadata": {},
   "source": [
    "- It creates a diagonal matrix.\n",
    "- In a diagonal matrix all the elements except the diagonal elements are 0."
   ]
  },
  {
   "cell_type": "code",
   "execution_count": 169,
   "id": "2084bcc2",
   "metadata": {},
   "outputs": [
    {
     "data": {
      "text/plain": [
       "array([[10,  0,  0,  0],\n",
       "       [ 0, 20,  0,  0],\n",
       "       [ 0,  0, 30,  0],\n",
       "       [ 0,  0,  0, 40]])"
      ]
     },
     "execution_count": 169,
     "metadata": {},
     "output_type": "execute_result"
    }
   ],
   "source": [
    "np.diag([10,20,30,40])"
   ]
  },
  {
   "cell_type": "markdown",
   "id": "035d5a4d",
   "metadata": {},
   "source": [
    "## 19. trace()"
   ]
  },
  {
   "cell_type": "markdown",
   "id": "d5171fe9",
   "metadata": {},
   "source": [
    "- It returns the sum of the diagonal elements of an array."
   ]
  },
  {
   "cell_type": "code",
   "execution_count": 170,
   "id": "a89b8bda",
   "metadata": {},
   "outputs": [
    {
     "data": {
      "text/plain": [
       "array([[85, 40, 13],\n",
       "       [42, 71, 95],\n",
       "       [45, 78, 25]])"
      ]
     },
     "execution_count": 170,
     "metadata": {},
     "output_type": "execute_result"
    }
   ],
   "source": [
    "np.random.seed(45)\n",
    "arr=np.random.randint(10,100,9).reshape(3,3)\n",
    "arr"
   ]
  },
  {
   "cell_type": "code",
   "execution_count": 171,
   "id": "43e83d07",
   "metadata": {},
   "outputs": [
    {
     "data": {
      "text/plain": [
       "181"
      ]
     },
     "execution_count": 171,
     "metadata": {},
     "output_type": "execute_result"
    }
   ],
   "source": [
    "np.trace(arr)"
   ]
  },
  {
   "cell_type": "markdown",
   "id": "d4193e68",
   "metadata": {},
   "source": [
    "## 20. dot()"
   ]
  },
  {
   "cell_type": "markdown",
   "id": "c9f6beb8",
   "metadata": {},
   "source": [
    "- It returns the dot product of two matrices.\n",
    "- For dot product the columns in the first array should be equal to the rows in the second array."
   ]
  },
  {
   "cell_type": "code",
   "execution_count": 172,
   "id": "79ff8123",
   "metadata": {},
   "outputs": [],
   "source": [
    "x=np.array([1,2,3,4,5,6]).reshape(2,3)\n",
    "y=np.array([10,20,30]).reshape(3,1)"
   ]
  },
  {
   "cell_type": "code",
   "execution_count": 173,
   "id": "a765a9e8",
   "metadata": {},
   "outputs": [
    {
     "data": {
      "text/plain": [
       "array([[1, 2, 3],\n",
       "       [4, 5, 6]])"
      ]
     },
     "execution_count": 173,
     "metadata": {},
     "output_type": "execute_result"
    }
   ],
   "source": [
    "x"
   ]
  },
  {
   "cell_type": "code",
   "execution_count": 174,
   "id": "e97ba724",
   "metadata": {},
   "outputs": [
    {
     "data": {
      "text/plain": [
       "array([[10],\n",
       "       [20],\n",
       "       [30]])"
      ]
     },
     "execution_count": 174,
     "metadata": {},
     "output_type": "execute_result"
    }
   ],
   "source": [
    "y"
   ]
  },
  {
   "cell_type": "code",
   "execution_count": 175,
   "id": "faa505d6",
   "metadata": {},
   "outputs": [
    {
     "data": {
      "text/plain": [
       "array([[140],\n",
       "       [320]])"
      ]
     },
     "execution_count": 175,
     "metadata": {},
     "output_type": "execute_result"
    }
   ],
   "source": [
    "np.dot(x,y)"
   ]
  },
  {
   "cell_type": "markdown",
   "id": "d9774df7",
   "metadata": {},
   "source": [
    "# Arithmetic Operations"
   ]
  },
  {
   "cell_type": "markdown",
   "id": "1290f969",
   "metadata": {},
   "source": [
    "- +, -, \\*, /, //, %, **"
   ]
  },
  {
   "cell_type": "code",
   "execution_count": 176,
   "id": "030fe180",
   "metadata": {},
   "outputs": [
    {
     "data": {
      "text/plain": [
       "array([[10, 20, 30],\n",
       "       [40, 50, 60],\n",
       "       [70, 80, 90]])"
      ]
     },
     "execution_count": 176,
     "metadata": {},
     "output_type": "execute_result"
    }
   ],
   "source": [
    "arr=np.array([10,20,30,40,50,60,70,80,90]).reshape(3,3)\n",
    "arr"
   ]
  },
  {
   "cell_type": "code",
   "execution_count": 177,
   "id": "ae6952b6",
   "metadata": {},
   "outputs": [
    {
     "data": {
      "text/plain": [
       "array([[15, 25, 35],\n",
       "       [45, 55, 65],\n",
       "       [75, 85, 95]])"
      ]
     },
     "execution_count": 177,
     "metadata": {},
     "output_type": "execute_result"
    }
   ],
   "source": [
    "arr+5"
   ]
  },
  {
   "cell_type": "code",
   "execution_count": 178,
   "id": "7993ff1b",
   "metadata": {},
   "outputs": [
    {
     "data": {
      "text/plain": [
       "array([[ 5, 15, 25],\n",
       "       [35, 45, 55],\n",
       "       [65, 75, 85]])"
      ]
     },
     "execution_count": 178,
     "metadata": {},
     "output_type": "execute_result"
    }
   ],
   "source": [
    "arr-5"
   ]
  },
  {
   "cell_type": "code",
   "execution_count": 179,
   "id": "145d64d9",
   "metadata": {},
   "outputs": [
    {
     "data": {
      "text/plain": [
       "array([[ 50, 100, 150],\n",
       "       [200, 250, 300],\n",
       "       [350, 400, 450]])"
      ]
     },
     "execution_count": 179,
     "metadata": {},
     "output_type": "execute_result"
    }
   ],
   "source": [
    "arr*5"
   ]
  },
  {
   "cell_type": "code",
   "execution_count": 180,
   "id": "e818e4d4",
   "metadata": {},
   "outputs": [
    {
     "data": {
      "text/plain": [
       "array([[ 2.,  4.,  6.],\n",
       "       [ 8., 10., 12.],\n",
       "       [14., 16., 18.]])"
      ]
     },
     "execution_count": 180,
     "metadata": {},
     "output_type": "execute_result"
    }
   ],
   "source": [
    "arr/5"
   ]
  },
  {
   "cell_type": "code",
   "execution_count": 181,
   "id": "757000c2",
   "metadata": {},
   "outputs": [
    {
     "data": {
      "text/plain": [
       "array([[ 2,  4,  6],\n",
       "       [ 8, 10, 12],\n",
       "       [14, 16, 18]], dtype=int32)"
      ]
     },
     "execution_count": 181,
     "metadata": {},
     "output_type": "execute_result"
    }
   ],
   "source": [
    "arr//5"
   ]
  },
  {
   "cell_type": "code",
   "execution_count": 183,
   "id": "61307287",
   "metadata": {},
   "outputs": [
    {
     "data": {
      "text/plain": [
       "array([[1, 2, 0],\n",
       "       [1, 2, 0],\n",
       "       [1, 2, 0]], dtype=int32)"
      ]
     },
     "execution_count": 183,
     "metadata": {},
     "output_type": "execute_result"
    }
   ],
   "source": [
    "arr%3"
   ]
  },
  {
   "cell_type": "code",
   "execution_count": 184,
   "id": "e5e14fab",
   "metadata": {},
   "outputs": [
    {
     "data": {
      "text/plain": [
       "array([[     100000,     3200000,    24300000],\n",
       "       [  102400000,   312500000,   777600000],\n",
       "       [ 1680700000, -1018167296,  1609932704]], dtype=int32)"
      ]
     },
     "execution_count": 184,
     "metadata": {},
     "output_type": "execute_result"
    }
   ],
   "source": [
    "arr**5"
   ]
  },
  {
   "cell_type": "markdown",
   "id": "8f9e934e",
   "metadata": {},
   "source": [
    "# How to change datatype of the elements of an array"
   ]
  },
  {
   "cell_type": "code",
   "execution_count": 185,
   "id": "61bbdcb9",
   "metadata": {},
   "outputs": [],
   "source": [
    "arr=np.random.rand(9).reshape(3,3)*1000"
   ]
  },
  {
   "cell_type": "code",
   "execution_count": 186,
   "id": "d1001e2d",
   "metadata": {},
   "outputs": [
    {
     "data": {
      "text/plain": [
       "array([[719.67710676, 365.36724207,  57.23759254],\n",
       "       [218.68496281, 316.89030416, 925.67060136],\n",
       "       [608.52416955, 813.85571225, 819.3441576 ]])"
      ]
     },
     "execution_count": 186,
     "metadata": {},
     "output_type": "execute_result"
    }
   ],
   "source": [
    "arr"
   ]
  },
  {
   "cell_type": "code",
   "execution_count": 187,
   "id": "c3c18e08",
   "metadata": {},
   "outputs": [
    {
     "data": {
      "text/plain": [
       "dtype('float64')"
      ]
     },
     "execution_count": 187,
     "metadata": {},
     "output_type": "execute_result"
    }
   ],
   "source": [
    "arr.dtype"
   ]
  },
  {
   "cell_type": "code",
   "execution_count": 188,
   "id": "623ddba8",
   "metadata": {},
   "outputs": [
    {
     "data": {
      "text/plain": [
       "array([[719, 365,  57],\n",
       "       [218, 316, 925],\n",
       "       [608, 813, 819]])"
      ]
     },
     "execution_count": 188,
     "metadata": {},
     "output_type": "execute_result"
    }
   ],
   "source": [
    "#  It converts the type of the array according to the given datatype and returns a new array.\n",
    "arr.astype(int)"
   ]
  },
  {
   "cell_type": "markdown",
   "id": "8c240267",
   "metadata": {},
   "source": [
    "# Null values in Numpy"
   ]
  },
  {
   "cell_type": "markdown",
   "id": "19f916b8",
   "metadata": {},
   "source": [
    "- In Numpy the null values or missing values are represented by np.nan\n",
    "- np.nan is a float type"
   ]
  },
  {
   "cell_type": "code",
   "execution_count": 189,
   "id": "844e5e12",
   "metadata": {},
   "outputs": [
    {
     "data": {
      "text/plain": [
       "array([10, 20, 30, 40, None, 60], dtype=object)"
      ]
     },
     "execution_count": 189,
     "metadata": {},
     "output_type": "execute_result"
    }
   ],
   "source": [
    "np.array([10,20,30,40,None,60])"
   ]
  },
  {
   "cell_type": "code",
   "execution_count": 190,
   "id": "0a17fb51",
   "metadata": {},
   "outputs": [
    {
     "data": {
      "text/plain": [
       "array([10., 20., 30., 40., nan, 60.])"
      ]
     },
     "execution_count": 190,
     "metadata": {},
     "output_type": "execute_result"
    }
   ],
   "source": [
    "arr=np.array([10,20,30,40,np.nan,60])\n",
    "arr"
   ]
  },
  {
   "cell_type": "code",
   "execution_count": 191,
   "id": "6c5c998a",
   "metadata": {},
   "outputs": [
    {
     "data": {
      "text/plain": [
       "NoneType"
      ]
     },
     "execution_count": 191,
     "metadata": {},
     "output_type": "execute_result"
    }
   ],
   "source": [
    "type(None)"
   ]
  },
  {
   "cell_type": "markdown",
   "id": "f773e5f9",
   "metadata": {},
   "source": [
    "## np. isnan()"
   ]
  },
  {
   "cell_type": "markdown",
   "id": "58dac287",
   "metadata": {},
   "source": [
    "- It returns the array of boolean values.\n",
    "- True means nan else False"
   ]
  },
  {
   "cell_type": "code",
   "execution_count": 192,
   "id": "d2a8c226",
   "metadata": {},
   "outputs": [
    {
     "data": {
      "text/plain": [
       "array([[10., nan, 20.],\n",
       "       [30., 40., nan],\n",
       "       [nan, 50., 60.]])"
      ]
     },
     "execution_count": 192,
     "metadata": {},
     "output_type": "execute_result"
    }
   ],
   "source": [
    "arr=np.array([10,np.nan,20,30,40,np.nan,np.nan,50,60]).reshape(3,3)\n",
    "arr"
   ]
  },
  {
   "cell_type": "code",
   "execution_count": 193,
   "id": "7a4c128b",
   "metadata": {},
   "outputs": [
    {
     "data": {
      "text/plain": [
       "array([[False,  True, False],\n",
       "       [False, False,  True],\n",
       "       [ True, False, False]])"
      ]
     },
     "execution_count": 193,
     "metadata": {},
     "output_type": "execute_result"
    }
   ],
   "source": [
    "np.isnan(arr)"
   ]
  },
  {
   "cell_type": "code",
   "execution_count": 194,
   "id": "6d759877",
   "metadata": {},
   "outputs": [
    {
     "data": {
      "text/plain": [
       "3"
      ]
     },
     "execution_count": 194,
     "metadata": {},
     "output_type": "execute_result"
    }
   ],
   "source": [
    "np.isnan(arr).sum()"
   ]
  },
  {
   "cell_type": "markdown",
   "id": "5047767a",
   "metadata": {},
   "source": [
    "## Get the indexes of all the null values"
   ]
  },
  {
   "cell_type": "code",
   "execution_count": 195,
   "id": "57228c2a",
   "metadata": {},
   "outputs": [
    {
     "data": {
      "text/plain": [
       "array([[10., nan, 20.],\n",
       "       [30., 40., nan],\n",
       "       [nan, 50., 60.]])"
      ]
     },
     "execution_count": 195,
     "metadata": {},
     "output_type": "execute_result"
    }
   ],
   "source": [
    "arr"
   ]
  },
  {
   "cell_type": "code",
   "execution_count": 196,
   "id": "c99e3738",
   "metadata": {},
   "outputs": [
    {
     "data": {
      "text/plain": [
       "(array([0, 1, 2], dtype=int64), array([1, 2, 0], dtype=int64))"
      ]
     },
     "execution_count": 196,
     "metadata": {},
     "output_type": "execute_result"
    }
   ],
   "source": [
    "np.where(np.isnan(arr))"
   ]
  },
  {
   "cell_type": "markdown",
   "id": "47bbed18",
   "metadata": {},
   "source": [
    "## Replacing the null values"
   ]
  },
  {
   "cell_type": "code",
   "execution_count": 197,
   "id": "c0cc1979",
   "metadata": {},
   "outputs": [
    {
     "data": {
      "text/plain": [
       "array([[10., nan, 20.],\n",
       "       [30., 40., nan],\n",
       "       [nan, 50., 60.]])"
      ]
     },
     "execution_count": 197,
     "metadata": {},
     "output_type": "execute_result"
    }
   ],
   "source": [
    "arr"
   ]
  },
  {
   "cell_type": "code",
   "execution_count": 198,
   "id": "653343e2",
   "metadata": {},
   "outputs": [
    {
     "data": {
      "text/plain": [
       "array([[False,  True, False],\n",
       "       [False, False,  True],\n",
       "       [ True, False, False]])"
      ]
     },
     "execution_count": 198,
     "metadata": {},
     "output_type": "execute_result"
    }
   ],
   "source": [
    "np.isnan(arr)"
   ]
  },
  {
   "cell_type": "markdown",
   "id": "4a86629e",
   "metadata": {},
   "source": [
    "# Array is mutable"
   ]
  },
  {
   "cell_type": "markdown",
   "id": "21769546",
   "metadata": {},
   "source": [
    "- arr=np.random.randint(10,50,9).reshape(3,3)"
   ]
  },
  {
   "cell_type": "code",
   "execution_count": 203,
   "id": "7a06d74b",
   "metadata": {},
   "outputs": [
    {
     "data": {
      "text/plain": [
       "array([[48, 38, 34],\n",
       "       [15, 27, 39],\n",
       "       [25, 13, 29]])"
      ]
     },
     "execution_count": 203,
     "metadata": {},
     "output_type": "execute_result"
    }
   ],
   "source": [
    "arr=np.random.randint(10,50,9).reshape(3,3)\n",
    "arr"
   ]
  },
  {
   "cell_type": "code",
   "execution_count": 206,
   "id": "5198f57c",
   "metadata": {},
   "outputs": [
    {
     "data": {
      "text/plain": [
       "array([[48, 38, 34],\n",
       "       [15,  0, 39],\n",
       "       [25, 13, 29]])"
      ]
     },
     "execution_count": 206,
     "metadata": {},
     "output_type": "execute_result"
    }
   ],
   "source": [
    "# Convert 27 to 0\n",
    "\n",
    "arr[1,1]=0\n",
    "arr"
   ]
  },
  {
   "cell_type": "code",
   "execution_count": 208,
   "id": "76228126",
   "metadata": {},
   "outputs": [
    {
     "data": {
      "text/plain": [
       "array([[48, 38, 34],\n",
       "       [15,  0, 39],\n",
       "       [27, 13, 29]])"
      ]
     },
     "execution_count": 208,
     "metadata": {},
     "output_type": "execute_result"
    }
   ],
   "source": [
    "# Replace 25 by the mean of the array\n",
    "\n",
    "# round(arr.mean())\n",
    "\n",
    "arr[2,0]=round(arr.mean())\n",
    "arr"
   ]
  },
  {
   "cell_type": "markdown",
   "id": "088ddbd5",
   "metadata": {},
   "source": [
    "# Array Broadcasting"
   ]
  },
  {
   "cell_type": "markdown",
   "id": "7350f195",
   "metadata": {},
   "source": [
    "- When we have two arrays of different shapes then numpy matches their shape by creating dummy rows or columns so that elment by element operation is possible.\n",
    "- For array broacasting either number of rows or number of columns should be equal in both the arrays."
   ]
  },
  {
   "cell_type": "code",
   "execution_count": 209,
   "id": "73241970",
   "metadata": {},
   "outputs": [
    {
     "data": {
      "text/plain": [
       "array([[10, 20, 30],\n",
       "       [40, 50, 60]])"
      ]
     },
     "execution_count": 209,
     "metadata": {},
     "output_type": "execute_result"
    }
   ],
   "source": [
    "x=np.array([10,20,30,40,50,60]).reshape(2,3)\n",
    "x"
   ]
  },
  {
   "cell_type": "code",
   "execution_count": 210,
   "id": "6b13ef3f",
   "metadata": {},
   "outputs": [
    {
     "data": {
      "text/plain": [
       "array([[15, 25, 35],\n",
       "       [45, 55, 65]])"
      ]
     },
     "execution_count": 210,
     "metadata": {},
     "output_type": "execute_result"
    }
   ],
   "source": [
    "x+5"
   ]
  },
  {
   "cell_type": "code",
   "execution_count": 211,
   "id": "c571a224",
   "metadata": {},
   "outputs": [
    {
     "data": {
      "text/plain": [
       "array([[10, 20, 30],\n",
       "       [40, 50, 60]])"
      ]
     },
     "execution_count": 211,
     "metadata": {},
     "output_type": "execute_result"
    }
   ],
   "source": [
    "x"
   ]
  },
  {
   "cell_type": "code",
   "execution_count": 212,
   "id": "6ce3551a",
   "metadata": {},
   "outputs": [
    {
     "data": {
      "text/plain": [
       "array([[2, 4, 6]])"
      ]
     },
     "execution_count": 212,
     "metadata": {},
     "output_type": "execute_result"
    }
   ],
   "source": [
    "y=np.array([2,4,6]).reshape(1,3)\n",
    "y"
   ]
  },
  {
   "cell_type": "code",
   "execution_count": 213,
   "id": "1fce6cbc",
   "metadata": {},
   "outputs": [
    {
     "data": {
      "text/plain": [
       "array([[12, 24, 36],\n",
       "       [42, 54, 66]])"
      ]
     },
     "execution_count": 213,
     "metadata": {},
     "output_type": "execute_result"
    }
   ],
   "source": [
    "x+y"
   ]
  },
  {
   "cell_type": "markdown",
   "id": "6588063d",
   "metadata": {},
   "source": [
    "# Iterating over an array"
   ]
  },
  {
   "cell_type": "code",
   "execution_count": 214,
   "id": "6cb58411",
   "metadata": {},
   "outputs": [
    {
     "data": {
      "text/plain": [
       "array([[ 2,  4,  6],\n",
       "       [ 8, 10, 12],\n",
       "       [14, 16, 18]])"
      ]
     },
     "execution_count": 214,
     "metadata": {},
     "output_type": "execute_result"
    }
   ],
   "source": [
    "y=np.array([2,4,6,8,10,12,14,16,18]).reshape(3,3)\n",
    "y"
   ]
  },
  {
   "cell_type": "code",
   "execution_count": 215,
   "id": "50224475",
   "metadata": {},
   "outputs": [
    {
     "name": "stdout",
     "output_type": "stream",
     "text": [
      "2\n",
      "4\n",
      "6\n",
      "8\n",
      "10\n",
      "12\n",
      "14\n",
      "16\n",
      "18\n"
     ]
    }
   ],
   "source": [
    "for i in np.nditer(y,order='c'):\n",
    "    print(i)"
   ]
  },
  {
   "cell_type": "code",
   "execution_count": 216,
   "id": "fd19c6a9",
   "metadata": {},
   "outputs": [
    {
     "name": "stdout",
     "output_type": "stream",
     "text": [
      "2\n",
      "8\n",
      "14\n",
      "4\n",
      "10\n",
      "16\n",
      "6\n",
      "12\n",
      "18\n"
     ]
    }
   ],
   "source": [
    "for i in np.nditer(y,order='f'):\n",
    "    print(i)"
   ]
  },
  {
   "cell_type": "markdown",
   "id": "d9d5c31e",
   "metadata": {},
   "source": [
    "# Sorting"
   ]
  },
  {
   "cell_type": "code",
   "execution_count": 217,
   "id": "ec22aa42",
   "metadata": {},
   "outputs": [
    {
     "data": {
      "text/plain": [
       "array([1, 2, 3, 4, 5, 6, 7, 8, 9])"
      ]
     },
     "execution_count": 217,
     "metadata": {},
     "output_type": "execute_result"
    }
   ],
   "source": [
    "a = np.array([1,4,2,5,3,6,8,7,9])\n",
    "np.sort(a, kind='quicksort')"
   ]
  },
  {
   "cell_type": "code",
   "execution_count": 218,
   "id": "d321c5ae",
   "metadata": {},
   "outputs": [
    {
     "name": "stdout",
     "output_type": "stream",
     "text": [
      "Sort along column : \n",
      " [[4 5 6 7]\n",
      " [2 3 7 9]]\n",
      "Sort along row : \n",
      " [[5 2 3 4]\n",
      " [9 6 7 7]]\n"
     ]
    }
   ],
   "source": [
    "a = np.array([[5,6,7,4],\n",
    "              [9,2,3,7]])# sort along the column\n",
    "print('Sort along column :','\\n',np.sort(a, kind='mergesort',axis=1))\n",
    "# sort along the row\n",
    "print('Sort along row :','\\n',np.sort(a, kind='mergesort',axis=0))"
   ]
  },
  {
   "cell_type": "markdown",
   "id": "9931b74f",
   "metadata": {},
   "source": [
    "# squeeze()"
   ]
  },
  {
   "cell_type": "markdown",
   "id": "4133d999",
   "metadata": {},
   "source": [
    "- numpy.squeeze() function is used when we want to remove single-dimensional entries from the shape of an array."
   ]
  },
  {
   "cell_type": "code",
   "execution_count": 221,
   "id": "3ac43178",
   "metadata": {},
   "outputs": [
    {
     "name": "stdout",
     "output_type": "stream",
     "text": [
      "[[2 2 2]\n",
      " [2 2 2]]\n",
      "[[2 2 2]\n",
      " [2 2 2]]\n"
     ]
    }
   ],
   "source": [
    "in_arr = np.array([[[2, 2, 2], [2, 2, 2]]])\n",
    "print(in_arr)\n",
    "out_arr = np.squeeze(in_arr)\n",
    "print(out_arr)"
   ]
  },
  {
   "cell_type": "markdown",
   "id": "3c389dce",
   "metadata": {},
   "source": [
    "# Numpy String Operations"
   ]
  },
  {
   "cell_type": "code",
   "execution_count": 222,
   "id": "1a8acc9b",
   "metadata": {},
   "outputs": [],
   "source": [
    "s1 = 'ABC'\n",
    "s2 = 'XYZ'"
   ]
  },
  {
   "cell_type": "code",
   "execution_count": 223,
   "id": "4d965239",
   "metadata": {},
   "outputs": [
    {
     "data": {
      "text/plain": [
       "array('ABCXYZ', dtype='<U6')"
      ]
     },
     "execution_count": 223,
     "metadata": {},
     "output_type": "execute_result"
    }
   ],
   "source": [
    "np.char.add(s1,s2)"
   ]
  },
  {
   "cell_type": "code",
   "execution_count": 224,
   "id": "77ff61a1",
   "metadata": {},
   "outputs": [
    {
     "data": {
      "text/plain": [
       "array('ABC', dtype='<U3')"
      ]
     },
     "execution_count": 224,
     "metadata": {},
     "output_type": "execute_result"
    }
   ],
   "source": [
    "np.char.upper(s1)"
   ]
  },
  {
   "cell_type": "code",
   "execution_count": 225,
   "id": "03fff5d6",
   "metadata": {},
   "outputs": [
    {
     "data": {
      "text/plain": [
       "array('xyz', dtype='<U3')"
      ]
     },
     "execution_count": 225,
     "metadata": {},
     "output_type": "execute_result"
    }
   ],
   "source": [
    "np.char.lower(s2)"
   ]
  },
  {
   "cell_type": "code",
   "execution_count": 227,
   "id": "5613cd50",
   "metadata": {},
   "outputs": [
    {
     "data": {
      "text/plain": [
       "array(list(['Hello', 'myself', 'Aishwarya', 'Singh']), dtype=object)"
      ]
     },
     "execution_count": 227,
     "metadata": {},
     "output_type": "execute_result"
    }
   ],
   "source": [
    "# splits: it splits the strings by spaces\n",
    "s3 = 'Hello myself Aishwarya Singh'\n",
    "np.char.split(s3)"
   ]
  },
  {
   "cell_type": "code",
   "execution_count": 229,
   "id": "084d2942",
   "metadata": {},
   "outputs": [
    {
     "data": {
      "text/plain": [
       "array(list(['Hi, I am Aishwarya Singh ', ' I am a IT professional']),\n",
       "      dtype=object)"
      ]
     },
     "execution_count": 229,
     "metadata": {},
     "output_type": "execute_result"
    }
   ],
   "source": [
    "# splitlines: it splits the strings by newlines\n",
    "s4 = 'Hi, I am Aishwarya Singh \\n I am a IT professional'\n",
    "np.char.splitlines(s4)"
   ]
  },
  {
   "cell_type": "code",
   "execution_count": 230,
   "id": "a1ac8b2b",
   "metadata": {},
   "outputs": [
    {
     "data": {
      "text/plain": [
       "array('Hi, I am Supriya Singh \\n I am a IT professional', dtype='<U47')"
      ]
     },
     "execution_count": 230,
     "metadata": {},
     "output_type": "execute_result"
    }
   ],
   "source": [
    "# np.char.replace\n",
    "np.char.replace(s4, 'Aishwarya','Supriya')"
   ]
  },
  {
   "cell_type": "code",
   "execution_count": 232,
   "id": "4d09f80d",
   "metadata": {},
   "outputs": [
    {
     "name": "stdout",
     "output_type": "stream",
     "text": [
      "###################End of Numpy###################\n"
     ]
    }
   ],
   "source": [
    "# np.char.center\n",
    "print(np.char.center('End of Numpy', 50 , '#'))"
   ]
  },
  {
   "cell_type": "code",
   "execution_count": null,
   "id": "6abb1d56",
   "metadata": {},
   "outputs": [],
   "source": []
  }
 ],
 "metadata": {
  "kernelspec": {
   "display_name": "Python 3 (ipykernel)",
   "language": "python",
   "name": "python3"
  },
  "language_info": {
   "codemirror_mode": {
    "name": "ipython",
    "version": 3
   },
   "file_extension": ".py",
   "mimetype": "text/x-python",
   "name": "python",
   "nbconvert_exporter": "python",
   "pygments_lexer": "ipython3",
   "version": "3.9.19"
  }
 },
 "nbformat": 4,
 "nbformat_minor": 5
}
